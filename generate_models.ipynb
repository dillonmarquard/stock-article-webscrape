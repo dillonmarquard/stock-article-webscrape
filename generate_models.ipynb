{
 "cells": [
  {
   "cell_type": "code",
   "execution_count": 1,
   "metadata": {},
   "outputs": [],
   "source": [
    "import os\n",
    "\n",
    "import numpy as np # linear algebra\n",
    "import pandas as pd # data processing, CSV file I/O (e.g. pd.read_csv)\n",
    "import matplotlib.pyplot as plt # visualization\n",
    "import seaborn as sns # visualization\n",
    "# machine learning\n",
    "import torch \n",
    "import torch.nn as nn\n",
    "import torch.optim as optim\n",
    "import torchvision\n",
    "from torchvision import transforms, datasets, models\n",
    "\n",
    "import progressbar"
   ]
  },
  {
   "cell_type": "code",
   "execution_count": 2,
   "metadata": {},
   "outputs": [
    {
     "name": "stdout",
     "output_type": "stream",
     "text": [
      "cpu\n"
     ]
    }
   ],
   "source": [
    "device = torch.device(\"cuda:0\" if torch.cuda.is_available() else \"cpu\")\n",
    "print(device)"
   ]
  },
  {
   "cell_type": "code",
   "execution_count": 3,
   "metadata": {},
   "outputs": [],
   "source": [
    "widgets = [\n",
    "    ' [', progressbar.Timer(), '] ',\n",
    "    progressbar.Percentage(), ' ',\n",
    "    progressbar.Bar(),\n",
    "    ' (', progressbar.ETA(), ') ',\n",
    "]"
   ]
  },
  {
   "cell_type": "markdown",
   "metadata": {},
   "source": [
    "# Load MNIST Dataset"
   ]
  },
  {
   "cell_type": "code",
   "execution_count": 4,
   "metadata": {},
   "outputs": [
    {
     "name": "stderr",
     "output_type": "stream",
     "text": [
      "d:\\dmarq\\tools\\python37\\lib\\site-packages\\torchvision\\datasets\\mnist.py:498: UserWarning: The given NumPy array is not writeable, and PyTorch does not support non-writeable tensors. This means you can write to the underlying (supposedly non-writeable) NumPy array using the tensor. You may want to copy the array to protect its data or make it writeable before converting it to a tensor. This type of warning will be suppressed for the rest of this program. (Triggered internally at  ..\\torch\\csrc\\utils\\tensor_numpy.cpp:180.)\n",
      "  return torch.from_numpy(parsed.astype(m[2], copy=False)).view(*s)\n"
     ]
    }
   ],
   "source": [
    "# import mnist dataset\n",
    "dataset = \"MNIST\"\n",
    "BATCH_SIZE = 500\n",
    "num_classes = 10\n",
    "\n",
    "train_loader = torch.utils.data.DataLoader(\n",
    "    torchvision.datasets.MNIST('./data',\n",
    "                               train=True,\n",
    "                               download=True,\n",
    "                               transform=torchvision.transforms.ToTensor()),\n",
    "    batch_size=BATCH_SIZE,shuffle=True)\n",
    "\n",
    "test_loader = torch.utils.data.DataLoader(\n",
    "    torchvision.datasets.MNIST('./data',\n",
    "                               train=False,\n",
    "                               download=True,\n",
    "                               transform=torchvision.transforms.ToTensor()),\n",
    "    batch_size=BATCH_SIZE,shuffle=True)"
   ]
  },
  {
   "cell_type": "code",
   "execution_count": null,
   "metadata": {},
   "outputs": [],
   "source": [
    "# # import emnist dataset\n",
    "# dataset = \"EMNIST\"\n",
    "# BATCH_SIZE = 500\n",
    "# num_classes = 47\n",
    "\n",
    "# train_loader = torch.utils.data.DataLoader(\n",
    "#     torchvision.datasets.EMNIST('./data',\n",
    "#                                 split=\"balanced\",\n",
    "#                                train=True,\n",
    "#                                download=True,\n",
    "#                                transform=torchvision.transforms.ToTensor()),\n",
    "#     batch_size=BATCH_SIZE,shuffle=True)\n",
    "\n",
    "# test_loader = torch.utils.data.DataLoader(\n",
    "#     torchvision.datasets.EMNIST('./data',\n",
    "#                                 split=\"balanced\",\n",
    "#                                train=False,\n",
    "#                                download=True,\n",
    "#                                transform=torchvision.transforms.ToTensor()),\n",
    "#     batch_size=BATCH_SIZE,shuffle=True)"
   ]
  },
  {
   "cell_type": "markdown",
   "metadata": {},
   "source": [
    "# Import Data Loss Architecture"
   ]
  },
  {
   "cell_type": "code",
   "execution_count": 5,
   "metadata": {},
   "outputs": [],
   "source": [
    "from BasicClassifier import BasicClassifier\n",
    "from DataLoss import DataLoss\n",
    "from Metrics import Metrics"
   ]
  },
  {
   "cell_type": "code",
   "execution_count": 6,
   "metadata": {},
   "outputs": [],
   "source": [
    "dloss = DataLoss()\n",
    "metric = Metrics()"
   ]
  },
  {
   "cell_type": "markdown",
   "metadata": {},
   "source": [
    "# Model Trainer"
   ]
  },
  {
   "cell_type": "code",
   "execution_count": 7,
   "metadata": {},
   "outputs": [],
   "source": [
    "def train(model,train_loader,test_loader,datafunc,proportion,optimizer,criterion,NUM_CLASSSES=10,NUM_EPOCHS=25):\n",
    "    epoch_metrics = {}\n",
    "    epoch_test_metrics = {}\n",
    "    bar = progressbar.ProgressBar(NUM_EPOCHS*len(train_loader),widgets=widgets).start()\n",
    "    for epoch in range(NUM_EPOCHS):\n",
    "        model.metric.reset_confusion_matrix(NUM_CLASSSES)\n",
    "        \n",
    "        for i, (inputs, labels) in enumerate(train_loader):\n",
    "            optimizer.zero_grad()\n",
    "            outputs = model(datafunc(inputs,proportion).to(device))\n",
    "            loss = criterion(outputs, labels.to(device))\n",
    "            loss.backward()\n",
    "            optimizer.step()\n",
    "            # statistics\n",
    "            model.metric.update_confusion_matrix(outputs.to('cpu'),labels)\n",
    "            # progressbar\n",
    "            bar.update(epoch*len(train_loader)+i)\n",
    "        epoch_metrics[epoch] = model.metric.classification_metrics()\n",
    "        \n",
    "        with torch.no_grad():\n",
    "            model.metric.reset_confusion_matrix(NUM_CLASSSES)\n",
    "            for (inputs, labels) in test_loader:\n",
    "                outputs = model(datafunc(inputs,proportion).to(device))\n",
    "                # statistics\n",
    "                model.metric.update_confusion_matrix(outputs.to('cpu'),labels)\n",
    "                # progressbar\n",
    "            epoch_test_metrics[epoch] = model.metric.classification_metrics()\n",
    "            \n",
    "    return (epoch_metrics,epoch_test_metrics)\n",
    "\n",
    "def train_simple(model,train_loader,test_loader,datafunc,optimizer,criterion,NUM_CLASSSES=10,NUM_EPOCHS=25):\n",
    "    epoch_metrics = {}\n",
    "    epoch_test_metrics = {}\n",
    "    bar = progressbar.ProgressBar(NUM_EPOCHS*len(train_loader),widgets=widgets).start()\n",
    "    for epoch in range(NUM_EPOCHS):\n",
    "        model.metric.reset_confusion_matrix(NUM_CLASSSES)\n",
    "        for i, (inputs, labels) in enumerate(train_loader):\n",
    "            optimizer.zero_grad()\n",
    "            outputs = model(datafunc(inputs).to(device))\n",
    "            loss = criterion(outputs, labels.to(device))\n",
    "            loss.backward()\n",
    "            optimizer.step()\n",
    "            # statistics\n",
    "            model.metric.update_confusion_matrix(outputs.to('cpu'),labels)\n",
    "            # progressbar\n",
    "            bar.update(epoch*len(train_loader)+i)\n",
    "        epoch_metrics[epoch] = model.metric.classification_metrics()\n",
    "        \n",
    "        with torch.no_grad():\n",
    "            model.metric.reset_confusion_matrix(NUM_CLASSSES)\n",
    "            for (inputs, labels) in test_loader:\n",
    "                outputs = model(datafunc(inputs).to(device))\n",
    "                # statistics\n",
    "                model.metric.update_confusion_matrix(outputs.to('cpu'),labels)\n",
    "                # progressbar\n",
    "            epoch_test_metrics[epoch] = model.metric.classification_metrics()\n",
    "    return (epoch_metrics,epoch_test_metrics)\n",
    "    \n",
    "def display_training_metrics(name,epoch_metrics):\n",
    "    sns.lineplot(x=list(epoch_metrics.keys()),y=np.array(list(epoch_metrics.values()),dtype=float)[:,1]) # precision\n",
    "    sns.lineplot(x=list(epoch_metrics.keys()),y=np.array(list(epoch_metrics.values()),dtype=float)[:,2]) # recall\n",
    "    sns.lineplot(x=list(epoch_metrics.keys()),y=np.array(list(epoch_metrics.values()),dtype=float)[:,0],) # accuracy\n",
    "    plt.xlabel('epoch')\n",
    "    plt.title(name)\n",
    "    \n",
    "def display_testing_metrics(name,epoch_metrics):\n",
    "    sns.lineplot(x=list(epoch_metrics.keys()),y=np.array(list(epoch_metrics.values()),dtype=float)[:,1]) # precision\n",
    "    sns.lineplot(x=list(epoch_metrics.keys()),y=np.array(list(epoch_metrics.values()),dtype=float)[:,2]) # recall\n",
    "    sns.lineplot(x=list(epoch_metrics.keys()),y=np.array(list(epoch_metrics.values()),dtype=float)[:,0],) # accuracy\n",
    "    plt.xlim([0, 1])\n",
    "    plt.ylim([0, 1])\n",
    "    plt.xlabel('% loss')\n",
    "    plt.title(name)\n",
    "    \n",
    "def display_testing_metrics_hist(name,metrics):\n",
    "    sns.barplot(x=['accuracy','precision','recall'],y=metrics[0:3])\n",
    "    plt.ylim([0, 1])\n",
    "    plt.title(name)"
   ]
  },
  {
   "cell_type": "code",
   "execution_count": 8,
   "metadata": {},
   "outputs": [
    {
     "data": {
      "image/png": "[encoded data removed]",
      "text/plain": [
       "<Figure size 432x288 with 1 Axes>"
      ]
     },
     "metadata": {
      "needs_background": "light"
     },
     "output_type": "display_data"
    },
    {
     "data": {
      "image/png": "[encoded data removed]",
      "text/plain": [
       "<Figure size 432x288 with 1 Axes>"
      ]
     },
     "metadata": {
      "needs_background": "light"
     },
     "output_type": "display_data"
    },
    {
     "data": {
      "image/png": "[encoded data removed]",
      "text/plain": [
       "<Figure size 432x288 with 1 Axes>"
      ]
     },
     "metadata": {
      "needs_background": "light"
     },
     "output_type": "display_data"
    },
    {
     "data": {
      "image/png": "[encoded data removed]",
      "text/plain": [
       "<Figure size 432x288 with 1 Axes>"
      ]
     },
     "metadata": {
      "needs_background": "light"
     },
     "output_type": "display_data"
    },
    {
     "data": {
      "image/png": "[encoded data removed]",
      "text/plain": [
       "<Figure size 432x288 with 1 Axes>"
      ]
     },
     "metadata": {
      "needs_background": "light"
     },
     "output_type": "display_data"
    },
    {
     "data": {
      "image/png": "[encoded data removed]",
      "text/plain": [
       "<Figure size 432x288 with 1 Axes>"
      ]
     },
     "metadata": {
      "needs_background": "light"
     },
     "output_type": "display_data"
    },
    {
     "data": {
      "image/png": "[encoded data removed]",
      "text/plain": [
       "<Figure size 432x288 with 1 Axes>"
      ]
     },
     "metadata": {
      "needs_background": "light"
     },
     "output_type": "display_data"
    },
    {
     "data": {
      "image/png": "[encoded data removed]",
      "text/plain": [
       "<Figure size 432x288 with 1 Axes>"
      ]
     },
     "metadata": {
      "needs_background": "light"
     },
     "output_type": "display_data"
    },
    {
     "data": {
      "image/png": "[encoded data removed]",
      "text/plain": [
       "<Figure size 432x288 with 1 Axes>"
      ]
     },
     "metadata": {
      "needs_background": "light"
     },
     "output_type": "display_data"
    }
   ],
   "source": [
    "inputs = next(iter(train_loader))[0]\n",
    "plt.imshow(inputs[0][0],cmap='Greys')\n",
    "plt.title('raw')\n",
    "plt.show()\n",
    "plt.imshow(dloss.random_per_pixel(inputs,0.5)[0][0],cmap='Greys')\n",
    "plt.title('random_per_pixel')\n",
    "plt.show()\n",
    "plt.imshow(dloss.random_per_img(inputs,0.5)[0][0],cmap='Greys')\n",
    "plt.title('random_per_img')\n",
    "plt.show()\n",
    "plt.imshow(dloss.columns_per_img(inputs,0.5)[0][0],cmap='Greys')\n",
    "plt.title('columns_per_img')\n",
    "plt.show()\n",
    "plt.imshow(dloss.rows_per_img(inputs,0.5)[0][0],cmap='Greys')\n",
    "plt.title('rows_per_img')\n",
    "plt.show()\n",
    "plt.imshow(dloss.rowcol_per_img(inputs,0.5)[0][0],cmap='Greys')\n",
    "plt.title('rowcol_per_img')\n",
    "plt.show()\n",
    "plt.imshow(dloss.pattern_row(inputs,0.5)[0][0],cmap='Greys')\n",
    "plt.title('pattern_row')\n",
    "plt.show()\n",
    "plt.imshow(dloss.pattern_column(inputs,0.5)[0][0],cmap='Greys')\n",
    "plt.title('pattern_column')\n",
    "plt.show()\n",
    "plt.imshow(dloss.pattern_checkerboard(inputs,0.5)[0][0],cmap='Greys')\n",
    "plt.title('pattern_checkerboard')\n",
    "plt.show()"
   ]
  },
  {
   "cell_type": "code",
   "execution_count": null,
   "metadata": {},
   "outputs": [],
   "source": [
    "os.makedirs('./models')\n",
    "for prop in [0.25,0.5,0.75,'definite']:\n",
    "    os.makedirs('./models/{}/train({})'.format(dataset,prop))"
   ]
  },
  {
   "cell_type": "code",
   "execution_count": 9,
   "metadata": {
    "scrolled": true
   },
   "outputs": [
    {
     "name": "stderr",
     "output_type": "stream",
     "text": [
      "d:\\dmarq\\tools\\python37\\lib\\site-packages\\torch\\nn\\modules\\container.py:139: UserWarning: Implicit dimension choice for softmax has been deprecated. Change the call to include dim=X as an argument.\n",
      "  input = module(input)\n",
      " [Elapsed Time: 0:01:42]   0% |                              | (ETA:  3:08:00) \r"
     ]
    },
    {
     "ename": "KeyboardInterrupt",
     "evalue": "",
     "output_type": "error",
     "traceback": [
      "\u001b[1;31m---------------------------------------------------------------------------\u001b[0m",
      "\u001b[1;31mKeyboardInterrupt\u001b[0m                         Traceback (most recent call last)",
      "\u001b[1;32m<ipython-input-9-1f7368f9be43>\u001b[0m in \u001b[0;36m<module>\u001b[1;34m\u001b[0m\n\u001b[0;32m      6\u001b[0m \u001b[0mcriterion\u001b[0m \u001b[1;33m=\u001b[0m \u001b[0mnn\u001b[0m\u001b[1;33m.\u001b[0m\u001b[0mCrossEntropyLoss\u001b[0m\u001b[1;33m(\u001b[0m\u001b[1;33m)\u001b[0m\u001b[1;33m\u001b[0m\u001b[1;33m\u001b[0m\u001b[0m\n\u001b[0;32m      7\u001b[0m \u001b[0moptimizer\u001b[0m \u001b[1;33m=\u001b[0m \u001b[0moptim\u001b[0m\u001b[1;33m.\u001b[0m\u001b[0mAdam\u001b[0m\u001b[1;33m(\u001b[0m\u001b[0mmodel_unaltered\u001b[0m\u001b[1;33m.\u001b[0m\u001b[0mparameters\u001b[0m\u001b[1;33m(\u001b[0m\u001b[1;33m)\u001b[0m\u001b[1;33m,\u001b[0m\u001b[0mlr\u001b[0m\u001b[1;33m=\u001b[0m\u001b[1;36m3e-5\u001b[0m\u001b[1;33m)\u001b[0m\u001b[1;33m\u001b[0m\u001b[1;33m\u001b[0m\u001b[0m\n\u001b[1;32m----> 8\u001b[1;33m \u001b[1;33m(\u001b[0m\u001b[0mtrain_metrics\u001b[0m\u001b[1;33m,\u001b[0m\u001b[0mtest_metrics\u001b[0m\u001b[1;33m)\u001b[0m \u001b[1;33m=\u001b[0m \u001b[0mtrain\u001b[0m\u001b[1;33m(\u001b[0m\u001b[0mmodel_unaltered\u001b[0m\u001b[1;33m,\u001b[0m\u001b[0mtrain_loader\u001b[0m\u001b[1;33m,\u001b[0m\u001b[0mtest_loader\u001b[0m\u001b[1;33m,\u001b[0m\u001b[0mgetattr\u001b[0m\u001b[1;33m(\u001b[0m\u001b[0mdloss\u001b[0m\u001b[1;33m,\u001b[0m \u001b[1;34m'unaltered'\u001b[0m\u001b[1;33m)\u001b[0m\u001b[1;33m,\u001b[0m\u001b[1;36m0.0\u001b[0m\u001b[1;33m,\u001b[0m\u001b[0moptimizer\u001b[0m\u001b[1;33m,\u001b[0m\u001b[0mcriterion\u001b[0m\u001b[1;33m)\u001b[0m\u001b[1;33m\u001b[0m\u001b[1;33m\u001b[0m\u001b[0m\n\u001b[0m\u001b[0;32m      9\u001b[0m \u001b[0mmodel_metrics\u001b[0m\u001b[1;33m.\u001b[0m\u001b[0mappend\u001b[0m\u001b[1;33m(\u001b[0m\u001b[1;33m(\u001b[0m\u001b[1;34m'Unaltered'\u001b[0m\u001b[1;33m,\u001b[0m\u001b[0mtrain_metrics\u001b[0m\u001b[1;33m)\u001b[0m\u001b[1;33m)\u001b[0m\u001b[1;33m\u001b[0m\u001b[1;33m\u001b[0m\u001b[0m\n\u001b[0;32m     10\u001b[0m \u001b[0mmodel_test_metrics\u001b[0m\u001b[1;33m.\u001b[0m\u001b[0mappend\u001b[0m\u001b[1;33m(\u001b[0m\u001b[1;33m(\u001b[0m\u001b[1;34m'Unaltered'\u001b[0m\u001b[1;33m,\u001b[0m\u001b[0mtest_metrics\u001b[0m\u001b[1;33m)\u001b[0m\u001b[1;33m)\u001b[0m\u001b[1;33m\u001b[0m\u001b[1;33m\u001b[0m\u001b[0m\n",
      "\u001b[1;32m<ipython-input-7-fc68ac4b26b1>\u001b[0m in \u001b[0;36mtrain\u001b[1;34m(model, train_loader, test_loader, datafunc, proportion, optimizer, criterion, NUM_CLASSSES, NUM_EPOCHS)\u001b[0m\n\u001b[0;32m     10\u001b[0m             \u001b[0moutputs\u001b[0m \u001b[1;33m=\u001b[0m \u001b[0mmodel\u001b[0m\u001b[1;33m(\u001b[0m\u001b[0mdatafunc\u001b[0m\u001b[1;33m(\u001b[0m\u001b[0minputs\u001b[0m\u001b[1;33m,\u001b[0m\u001b[0mproportion\u001b[0m\u001b[1;33m)\u001b[0m\u001b[1;33m.\u001b[0m\u001b[0mto\u001b[0m\u001b[1;33m(\u001b[0m\u001b[0mdevice\u001b[0m\u001b[1;33m)\u001b[0m\u001b[1;33m)\u001b[0m\u001b[1;33m\u001b[0m\u001b[1;33m\u001b[0m\u001b[0m\n\u001b[0;32m     11\u001b[0m             \u001b[0mloss\u001b[0m \u001b[1;33m=\u001b[0m \u001b[0mcriterion\u001b[0m\u001b[1;33m(\u001b[0m\u001b[0moutputs\u001b[0m\u001b[1;33m,\u001b[0m \u001b[0mlabels\u001b[0m\u001b[1;33m.\u001b[0m\u001b[0mto\u001b[0m\u001b[1;33m(\u001b[0m\u001b[0mdevice\u001b[0m\u001b[1;33m)\u001b[0m\u001b[1;33m)\u001b[0m\u001b[1;33m\u001b[0m\u001b[1;33m\u001b[0m\u001b[0m\n\u001b[1;32m---> 12\u001b[1;33m             \u001b[0mloss\u001b[0m\u001b[1;33m.\u001b[0m\u001b[0mbackward\u001b[0m\u001b[1;33m(\u001b[0m\u001b[1;33m)\u001b[0m\u001b[1;33m\u001b[0m\u001b[1;33m\u001b[0m\u001b[0m\n\u001b[0m\u001b[0;32m     13\u001b[0m             \u001b[0moptimizer\u001b[0m\u001b[1;33m.\u001b[0m\u001b[0mstep\u001b[0m\u001b[1;33m(\u001b[0m\u001b[1;33m)\u001b[0m\u001b[1;33m\u001b[0m\u001b[1;33m\u001b[0m\u001b[0m\n\u001b[0;32m     14\u001b[0m             \u001b[1;31m# statistics\u001b[0m\u001b[1;33m\u001b[0m\u001b[1;33m\u001b[0m\u001b[1;33m\u001b[0m\u001b[0m\n",
      "\u001b[1;32md:\\dmarq\\tools\\python37\\lib\\site-packages\\torch\\_tensor.py\u001b[0m in \u001b[0;36mbackward\u001b[1;34m(self, gradient, retain_graph, create_graph, inputs)\u001b[0m\n\u001b[0;32m    253\u001b[0m                 \u001b[0mcreate_graph\u001b[0m\u001b[1;33m=\u001b[0m\u001b[0mcreate_graph\u001b[0m\u001b[1;33m,\u001b[0m\u001b[1;33m\u001b[0m\u001b[1;33m\u001b[0m\u001b[0m\n\u001b[0;32m    254\u001b[0m                 inputs=inputs)\n\u001b[1;32m--> 255\u001b[1;33m         \u001b[0mtorch\u001b[0m\u001b[1;33m.\u001b[0m\u001b[0mautograd\u001b[0m\u001b[1;33m.\u001b[0m\u001b[0mbackward\u001b[0m\u001b[1;33m(\u001b[0m\u001b[0mself\u001b[0m\u001b[1;33m,\u001b[0m \u001b[0mgradient\u001b[0m\u001b[1;33m,\u001b[0m \u001b[0mretain_graph\u001b[0m\u001b[1;33m,\u001b[0m \u001b[0mcreate_graph\u001b[0m\u001b[1;33m,\u001b[0m \u001b[0minputs\u001b[0m\u001b[1;33m=\u001b[0m\u001b[0minputs\u001b[0m\u001b[1;33m)\u001b[0m\u001b[1;33m\u001b[0m\u001b[1;33m\u001b[0m\u001b[0m\n\u001b[0m\u001b[0;32m    256\u001b[0m \u001b[1;33m\u001b[0m\u001b[0m\n\u001b[0;32m    257\u001b[0m     \u001b[1;32mdef\u001b[0m \u001b[0mregister_hook\u001b[0m\u001b[1;33m(\u001b[0m\u001b[0mself\u001b[0m\u001b[1;33m,\u001b[0m \u001b[0mhook\u001b[0m\u001b[1;33m)\u001b[0m\u001b[1;33m:\u001b[0m\u001b[1;33m\u001b[0m\u001b[1;33m\u001b[0m\u001b[0m\n",
      "\u001b[1;32md:\\dmarq\\tools\\python37\\lib\\site-packages\\torch\\autograd\\__init__.py\u001b[0m in \u001b[0;36mbackward\u001b[1;34m(tensors, grad_tensors, retain_graph, create_graph, grad_variables, inputs)\u001b[0m\n\u001b[0;32m    147\u001b[0m     Variable._execution_engine.run_backward(\n\u001b[0;32m    148\u001b[0m         \u001b[0mtensors\u001b[0m\u001b[1;33m,\u001b[0m \u001b[0mgrad_tensors_\u001b[0m\u001b[1;33m,\u001b[0m \u001b[0mretain_graph\u001b[0m\u001b[1;33m,\u001b[0m \u001b[0mcreate_graph\u001b[0m\u001b[1;33m,\u001b[0m \u001b[0minputs\u001b[0m\u001b[1;33m,\u001b[0m\u001b[1;33m\u001b[0m\u001b[1;33m\u001b[0m\u001b[0m\n\u001b[1;32m--> 149\u001b[1;33m         allow_unreachable=True, accumulate_grad=True)  # allow_unreachable flag\n\u001b[0m\u001b[0;32m    150\u001b[0m \u001b[1;33m\u001b[0m\u001b[0m\n\u001b[0;32m    151\u001b[0m \u001b[1;33m\u001b[0m\u001b[0m\n",
      "\u001b[1;31mKeyboardInterrupt\u001b[0m: "
     ]
    }
   ],
   "source": [
    "model_metrics = []\n",
    "model_test_metrics = []\n",
    "model_list = []\n",
    "model_unaltered = BasicClassifier(num_classes)\n",
    "model_unaltered.to(device)\n",
    "criterion = nn.CrossEntropyLoss()\n",
    "optimizer = optim.Adam(model_unaltered.parameters(),lr=3e-5)\n",
    "(train_metrics,test_metrics) = train(model_unaltered,train_loader,test_loader,getattr(dloss, 'unaltered'),0.0,optimizer,criterion,NUM_CLASSSES=num_classes)\n",
    "model_metrics.append(('Unaltered',train_metrics))\n",
    "model_test_metrics.append(('Unaltered',test_metrics))\n",
    "model_list.append(('Unaltered',model_unaltered))\n",
    "torch.save(model_list[0][1].state_dict(),'./models/{}/train({})/{}.h5'.format(dataset,\"definite\",\"Unaltered\"))"
   ]
  },
  {
   "cell_type": "code",
   "execution_count": null,
   "metadata": {},
   "outputs": [],
   "source": [
    "func_list = [('rPixel',getattr(dloss, 'random_per_img')),('rRow',getattr(dloss, 'rows_per_img')),('rColumn',getattr(dloss, 'columns_per_img')),('rRow and rColumn',getattr(dloss, 'rowcol_per_img'))]"
   ]
  },
  {
   "cell_type": "code",
   "execution_count": null,
   "metadata": {},
   "outputs": [],
   "source": [
    "for proportion in [0.25,0.5,0.75]:\n",
    "    model_metrics = []\n",
    "    model_test_metrics = []\n",
    "    model_list = []\n",
    "    model_metrics.append(('Unaltered',train_metrics))\n",
    "    model_test_metrics.append(('Unaltered',test_metrics))\n",
    "    model_list.append(('Unaltered',model_unaltered))\n",
    "\n",
    "    bar = progressbar.ProgressBar(len(func_list),widgets=widgets).start()\n",
    "    for cc, (name,func) in enumerate(func_list):\n",
    "        model = BasicClassifier(num_classes)\n",
    "        model.to(device)\n",
    "        criterion = nn.CrossEntropyLoss()\n",
    "        optimizer = optim.Adam(model.parameters(),lr=3e-5)\n",
    "        (train_metrics,test_metrics) = train(model,train_loader,test_loader,func,proportion,optimizer,criterion,NUM_CLASSSES=num_classes)\n",
    "        model_metrics.append((name,train_metrics))\n",
    "        model_test_metrics.append((name,test_metrics))\n",
    "        model_list.append((name,model))\n",
    "        bar.update(cc)\n",
    "    # plot training metrics\n",
    "    fig, axarr = plt.subplots(1,len(model_metrics),figsize=(30,5))\n",
    "    for i, (name,metrics) in enumerate(model_metrics):\n",
    "            plt.sca(axarr[i])\n",
    "            display_training_metrics(name,metrics)\n",
    "    leg = ['precision','recall','accuracy']\n",
    "    plt.legend(leg)\n",
    "    plt.suptitle('Training @ {} loss'.format(proportion))\n",
    "    plt.show()\n",
    "    fig, axarr = plt.subplots(1,len(model_metrics),figsize=(30,5))\n",
    "    for i, (name,metrics) in enumerate(model_test_metrics):\n",
    "            plt.sca(axarr[i])\n",
    "            display_training_metrics(name,metrics)\n",
    "    leg = ['precision','recall','accuracy']\n",
    "    plt.legend(leg)\n",
    "    plt.suptitle('Testing during Training @ {} loss'.format(proportion))\n",
    "    plt.show()\n",
    "    # save models to proportion folder\n",
    "    for (name,model) in model_list[1:]:\n",
    "        torch.save(model.state_dict(),'./models/{}/train({})/{}.h5'.format(dataset,proportion,name))"
   ]
  },
  {
   "cell_type": "code",
   "execution_count": null,
   "metadata": {},
   "outputs": [],
   "source": [
    "func_list_1d = [('pCheckerboard',getattr(dloss,'pattern_checkerboard')),('pColumn',getattr(dloss,'pattern_column')),('pRow',getattr(dloss,'pattern_row'))]\n",
    "model_list_1d = []\n",
    "model_metrics_1d = []\n",
    "model_metrics_1d_test = []\n",
    "bar = progressbar.ProgressBar(len(func_list_1d),widgets=widgets).start()\n",
    "for cc, (name,func) in enumerate(func_list_1d):\n",
    "    model = BasicClassifier(num_classes)\n",
    "    model.to(device)\n",
    "    criterion = nn.CrossEntropyLoss()\n",
    "    optimizer = optim.Adam(model.parameters(),lr=3e-5)\n",
    "    (train_metrics,test_metrics) = train_simple(model,train_loader,test_loader,func,optimizer,criterion,NUM_CLASSSES=num_classes)\n",
    "    model_metrics_1d.append((name,train_metrics))\n",
    "    model_metrics_1d_test.append((name,test_metrics))\n",
    "    model_list_1d.append((name,model))\n",
    "    bar.update(cc)\n",
    "# plot training metrics\n",
    "fig, axarr = plt.subplots(1,len(model_metrics_1d),figsize=(30,5))\n",
    "for i, (name,metrics) in enumerate(model_metrics_1d):\n",
    "        plt.sca(axarr[i])\n",
    "        display_training_metrics(name,metrics)\n",
    "leg = ['precision','recall','accuracy']\n",
    "plt.legend(leg)\n",
    "plt.suptitle('Training')\n",
    "plt.show()\n",
    "fig, axarr = plt.subplots(1,len(model_metrics_1d_test),figsize=(30,5))\n",
    "for i, (name,metrics) in enumerate(model_metrics_1d_test):\n",
    "        plt.sca(axarr[i])\n",
    "        display_training_metrics(name,metrics)\n",
    "leg = ['precision','recall','accuracy']\n",
    "plt.legend(leg)\n",
    "plt.suptitle('Testing during Training')\n",
    "plt.show()\n",
    "for (name,model) in model_list_1d:\n",
    "        torch.save(model.state_dict(),'./models/{}/train({})/{}.h5'.format(dataset,\"definite\",name))"
   ]
  },
  {
   "cell_type": "code",
   "execution_count": null,
   "metadata": {},
   "outputs": [],
   "source": []
  }
 ],
 "metadata": {
  "interpreter": {
   "hash": "b85441ca403b4de2b0e4d0b3dc6aa602716bcf97a107bd9a0b3bcd7b3dc98d9a"
  },
  "kernelspec": {
   "display_name": "Python 3",
   "language": "python",
   "name": "python3"
  },
  "language_info": {
   "codemirror_mode": {
    "name": "ipython",
    "version": 3
   },
   "file_extension": ".py",
   "mimetype": "text/x-python",
   "name": "python",
   "nbconvert_exporter": "python",
   "pygments_lexer": "ipython3",
   "version": "3.7.9"
  }
 },
 "nbformat": 4,
 "nbformat_minor": 2
}
