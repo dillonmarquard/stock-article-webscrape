{
 "cells": [
  {
   "cell_type": "code",
   "execution_count": 1,
   "metadata": {},
   "outputs": [],
   "source": [
    "import numpy as np\n",
    "import pandas as pd\n",
    "import seaborn as sns\n",
    "import matplotlib.pyplot as plt\n",
    "from bs4 import BeautifulSoup\n",
    "\n",
    "from selenium import webdriver\n",
    "from selenium.webdriver.chrome.service import Service\n",
    "from selenium.webdriver.chrome.options import Options\n",
    "from webdriver_manager.chrome import ChromeDriverManager\n",
    "from selenium.webdriver.support.wait import WebDriverWait\n",
    "from selenium.webdriver.support import expected_conditions as EC\n",
    "from selenium.webdriver.common.by import By\n",
    "\n",
    "import re\n",
    "import json\n",
    "import time\n",
    "import datetime\n",
    "from tqdm import tqdm\n",
    "\n",
    "import threading"
   ]
  },
  {
   "cell_type": "code",
   "execution_count": 2,
   "id": "42d15984",
   "metadata": {},
   "outputs": [],
   "source": [
    "from crawler import APIClient"
   ]
  },
  {
   "cell_type": "code",
   "execution_count": 3,
   "id": "251aa268",
   "metadata": {},
   "outputs": [
    {
     "name": "stdout",
     "output_type": "stream",
     "text": [
      "Chrome Webscraper <selenium.webdriver.chrome.webdriver.WebDriver (session=\"900ac5edd9bc300c15f57125ee25296e\")> (C:\\Users\\dmarq\\.wdm\\drivers\\chromedriver\\win32\\112.0.5615.49\\chromedriver.exe)\n"
     ]
    }
   ],
   "source": [
    "api = APIClient()\n",
    "print(api)"
   ]
  },
  {
   "cell_type": "code",
   "execution_count": 4,
   "id": "f7d9e082",
   "metadata": {},
   "outputs": [],
   "source": [
    "# api.get_stock_data('tsla','2023-01-24',10)"
   ]
  },
  {
   "cell_type": "code",
   "execution_count": 5,
   "id": "3b2f83c9",
   "metadata": {},
   "outputs": [],
   "source": [
    "class apiThreadSlave(threading.Thread):\n",
    "   def __init__(self, thread_id, tag, dates, num_links):\n",
    "      threading.Thread.__init__(self)\n",
    "      self.thread_id = thread_id\n",
    "      self.tag = tag\n",
    "      self.dates = dates\n",
    "      self.num_links = num_links\n",
    "      self.api = APIClient()\n",
    "   def run(self):\n",
    "      for date in self.dates:\n",
    "         self.api.get_stock_data(self.tag, date,self.num_links).to_csv(f'./data/{self.tag}/{self.thread_id}_{date}_{datetime.datetime.today()}.csv')"
   ]
  },
  {
   "cell_type": "code",
   "execution_count": null,
   "id": "0c889e21",
   "metadata": {},
   "outputs": [],
   "source": [
    "#@title Multithreading\n",
    "MAX_THREADS = 24\n",
    "TAG = 'tsla'\n",
    "\n",
    "dt_rng = pd.date_range(start=\"2018-01-01\", end=\"2023-04-25\")\n",
    "thread_dt_rng = [dt_rng[x * MAX_THREADS:(x + 1) * MAX_THREADS] for x in range((len(dt_rng) + MAX_THREADS - 1) // MAX_THREADS )]\n",
    "\n",
    "threads = []\n",
    "\n",
    "for i, dates in enumerate(thread_dt_rng):\n",
    "    tmp_thread = apiThreadSlave(i, TAG, dates, 50)\n",
    "    tmp_thread.start()\n",
    "    threads.append(tmp_thread)\n",
    "\n",
    "for t in threads:\n",
    "    t.join()"
   ]
  },
  {
   "attachments": {},
   "cell_type": "markdown",
   "id": "251455e4",
   "metadata": {},
   "source": [
    "# TESTING"
   ]
  },
  {
   "cell_type": "code",
   "execution_count": null,
   "id": "4b0d7e86",
   "metadata": {},
   "outputs": [],
   "source": [
    "#url = \"https://www.bloomberg.com/news/articles/2023-02-17/summers-says-too-soon-to-call-for-march-50-basis-point-fed-hike?srnd=premium\"\n",
    "#url = \"https://www.bloomberg.com/news/articles/2023-02-18/cars-tires-textile-factories-have-shut-in-crisis-hit-pakistan?srnd=industries-v2\"\n",
    "\n",
    "testlinks = api.get_google_links('tsla','2022-02-01',25)\n",
    "testlinks"
   ]
  },
  {
   "cell_type": "code",
   "execution_count": null,
   "id": "f959101d",
   "metadata": {},
   "outputs": [],
   "source": [
    "res = api.get_article_data(testlinks[4])\n",
    "res"
   ]
  },
  {
   "cell_type": "code",
   "execution_count": null,
   "id": "6b4e1329",
   "metadata": {},
   "outputs": [],
   "source": [
    "html = api.get_html_from_url(testlinks[0])"
   ]
  },
  {
   "cell_type": "code",
   "execution_count": null,
   "id": "22635367",
   "metadata": {},
   "outputs": [],
   "source": [
    "soup = BeautifulSoup(html, 'html.parser')\n",
    "text = ''\n",
    "for tmp in [tmp.text for tmp in soup.find_all(['a','p','h','h1','h2'])]:\n",
    "    if len(tmp) > 25 and re.findall('Click here',tmp) == [] and re.findall('This Simple Trick',tmp) == []:\n",
    "        text += tmp + ' '\n",
    "text = re.sub('\\s+',' ',text.replace('\\n',' ').replace('\\xa0',' ').replace('\\'','’').replace('   ',' ').strip())\n",
    "text"
   ]
  },
  {
   "cell_type": "code",
   "execution_count": null,
   "id": "f80b57d4",
   "metadata": {},
   "outputs": [],
   "source": []
  }
 ],
 "metadata": {
  "kernelspec": {
   "display_name": "base",
   "language": "python",
   "name": "python3"
  },
  "language_info": {
   "codemirror_mode": {
    "name": "ipython",
    "version": 3
   },
   "file_extension": ".py",
   "mimetype": "text/x-python",
   "name": "python",
   "nbconvert_exporter": "python",
   "pygments_lexer": "ipython3",
   "version": "3.9.12"
  },
  "vscode": {
   "interpreter": {
    "hash": "09a439d790eceb95925da18f74694a4b3c4d77bfcf6c49a15526c21ab323f951"
   }
  }
 },
 "nbformat": 4,
 "nbformat_minor": 5
}
