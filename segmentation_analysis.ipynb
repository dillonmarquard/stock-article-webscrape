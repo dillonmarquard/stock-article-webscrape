{
 "cells": [
  {
   "cell_type": "code",
   "execution_count": 1,
   "id": "cdeeb83e",
   "metadata": {},
   "outputs": [
    {
     "name": "stdout",
     "output_type": "stream",
     "text": [
      "done loading $tsla data.\n"
     ]
    }
   ],
   "source": [
    "from datetime import date, timedelta, datetime\n",
    "\n",
    "from Stock import *\n",
    "\n",
    "s = date(2020,1,1)\n",
    "e = date(2021,12,20)\n",
    "tesla = Stock(\"tsla\")\n",
    "tesla.load_data()\n",
    "#tesla.add_data_range(s,e,stockpath='pricedata/tsla.csv')\n",
    "#tesla.save_data()\n"
   ]
  },
  {
   "cell_type": "code",
   "execution_count": 4,
   "id": "226428fe",
   "metadata": {},
   "outputs": [],
   "source": [
    "from nltk.tokenize import sent_tokenize, word_tokenize\n",
    "import warnings\n",
    "  \n",
    "warnings.filterwarnings(action = 'ignore')\n",
    "  \n",
    "import gensim\n",
    "from gensim.models import Word2Vec"
   ]
  },
  {
   "cell_type": "code",
   "execution_count": 60,
   "id": "0991c664",
   "metadata": {},
   "outputs": [],
   "source": [
    "data = []\n",
    "for j in tesla.df['text'].values:\n",
    "    temp = [i.lower() for i in word_tokenize(j)]\n",
    "    data.append(temp)"
   ]
  },
  {
   "cell_type": "code",
   "execution_count": 90,
   "id": "ccffdc26",
   "metadata": {},
   "outputs": [],
   "source": [
    "model1 = gensim.models.Word2Vec(data, min_count = 1, \n",
    "                              size = 100, window = 5, workers=5, sg=1)"
   ]
  },
  {
   "cell_type": "code",
   "execution_count": 201,
   "id": "86ff6abf",
   "metadata": {},
   "outputs": [
    {
     "name": "stdout",
     "output_type": "stream",
     "text": [
      "Cosine similarity between 'good' and 'bad' 0.81178546\n"
     ]
    }
   ],
   "source": [
    "word1 = \"good\"\n",
    "word2 = \"bad\"\n",
    "print(\"Cosine similarity between '{}' and '{}'\".format(word1,word2),\n",
    "    model1.similarity(word1, word2))"
   ]
  },
  {
   "cell_type": "code",
   "execution_count": 194,
   "id": "488a525c",
   "metadata": {},
   "outputs": [
    {
     "data": {
      "text/plain": [
       "[('portugal', 0.7774852514266968),\n",
       " ('austria', 0.7757952213287354),\n",
       " ('poland', 0.7640354633331299),\n",
       " ('spain', 0.7504071593284607),\n",
       " ('hungary', 0.7495229840278625)]"
      ]
     },
     "execution_count": 194,
     "metadata": {},
     "output_type": "execute_result"
    }
   ],
   "source": [
    "model1.most_similar('germany')[:5]"
   ]
  },
  {
   "cell_type": "code",
   "execution_count": 199,
   "id": "0e303b2b",
   "metadata": {},
   "outputs": [],
   "source": [
    "tesla.df['label'] = tesla.df.apply(\n",
    "    lambda row : int(row.percent_change > 0)\n",
    "    ,axis=1)\n",
    "tesla.df.loc[tesla.df['percent_change'].isna(), 'label'] = np.nan"
   ]
  },
  {
   "cell_type": "code",
   "execution_count": 200,
   "id": "3b6a49ca",
   "metadata": {
    "scrolled": true
   },
   "outputs": [
    {
     "data": {
      "text/plain": [
       "<AxesSubplot:>"
      ]
     },
     "execution_count": 200,
     "metadata": {},
     "output_type": "execute_result"
    },
    {
     "data": {
      "image/png": "[encoded data removed]",
      "text/plain": [
       "<Figure size 432x288 with 1 Axes>"
      ]
     },
     "metadata": {
      "needs_background": "light"
     },
     "output_type": "display_data"
    }
   ],
   "source": [
    "tesla.df['label'].hist()"
   ]
  },
  {
   "cell_type": "code",
   "execution_count": 307,
   "id": "ce949254",
   "metadata": {},
   "outputs": [],
   "source": [
    "def mean_vectorize(tx):\n",
    "    temp = np.mean([model1[i.lower()] for i in word_tokenize(tx)],axis=0).tolist()\n",
    "    return temp\n",
    "dataset = tesla.df.dropna()\n",
    "inputs = dataset[['text']].apply(\n",
    "    lambda row : mean_vectorize(row.text)\n",
    "    ,axis=1)"
   ]
  },
  {
   "cell_type": "code",
   "execution_count": 308,
   "id": "723de37f",
   "metadata": {},
   "outputs": [],
   "source": [
    "from sklearn.model_selection import train_test_split\n",
    "X_train, X_test, y_train, y_test = train_test_split(inputs.tolist(), dataset['label'].astype(int), test_size=0.3, shuffle=True)"
   ]
  },
  {
   "cell_type": "code",
   "execution_count": 315,
   "id": "c43f0499",
   "metadata": {},
   "outputs": [
    {
     "name": "stdout",
     "output_type": "stream",
     "text": [
      "0.9819567979669631\n",
      "0.5388263189093064\n"
     ]
    }
   ],
   "source": [
    "from sklearn.ensemble import RandomForestClassifier\n",
    "clf = RandomForestClassifier(n_estimators=100,)\n",
    "clf.fit(X_train, y_train)\n",
    "print(clf.score(X_train,y_train))\n",
    "print(clf.score(X_test,y_test))"
   ]
  },
  {
   "cell_type": "code",
   "execution_count": null,
   "id": "b3dec868",
   "metadata": {},
   "outputs": [],
   "source": []
  }
 ],
 "metadata": {
  "kernelspec": {
   "display_name": "Python 3 (ipykernel)",
   "language": "python",
   "name": "python3"
  },
  "language_info": {
   "codemirror_mode": {
    "name": "ipython",
    "version": 3
   },
   "file_extension": ".py",
   "mimetype": "text/x-python",
   "name": "python",
   "nbconvert_exporter": "python",
   "pygments_lexer": "ipython3",
   "version": "3.9.7"
  }
 },
 "nbformat": 4,
 "nbformat_minor": 5
}
