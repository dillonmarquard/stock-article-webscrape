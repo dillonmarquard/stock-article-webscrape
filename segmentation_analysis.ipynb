{
 "cells": [
  {
   "cell_type": "code",
   "execution_count": null,
   "id": "408e40f6",
   "metadata": {},
   "outputs": [],
   "source": [
    "from datetime import date, timedelta, datetime\n",
    "\n",
    "from Stock import *\n",
    "\n",
    "s = date(2020,1,1)\n",
    "e = date(2021,12,20)\n",
    "tesla = Stock(\"tsla\")\n",
    "tesla.load_data()\n",
    "#tesla.add_data_range(s,e,stockpath='pricedata/tsla.csv')\n",
    "#tesla.save_data()\n"
   ]
  },
  {
   "cell_type": "code",
   "execution_count": null,
   "id": "6c1a4823",
   "metadata": {},
   "outputs": [],
   "source": [
    "from nltk.tokenize import sent_tokenize, word_tokenize\n",
    "import warnings\n",
    "  \n",
    "warnings.filterwarnings(action = 'ignore')\n",
    "  \n",
    "import gensim\n",
    "from gensim.models import Word2Vec\n",
    "import seaborn as sns"
   ]
  },
  {
   "cell_type": "code",
   "execution_count": null,
   "id": "ef72a038",
   "metadata": {},
   "outputs": [],
   "source": [
    "data = []\n",
    "for j in tesla.df['text'].values:\n",
    "    temp = [i.lower() for i in word_tokenize(j)]\n",
    "    data.append(temp)"
   ]
  },
  {
   "cell_type": "code",
   "execution_count": null,
   "id": "879dbbaf",
   "metadata": {},
   "outputs": [],
   "source": [
    "model1 = gensim.models.Word2Vec(data, min_count = 1, \n",
    "                              size = 5000, window = 7, workers=5, sg=1)"
   ]
  },
  {
   "cell_type": "code",
   "execution_count": null,
   "id": "4b78f4ca",
   "metadata": {},
   "outputs": [],
   "source": [
    "word1 = \"good\"\n",
    "word2 = \"bad\"\n",
    "print(\"Cosine similarity between '{}' and '{}'\".format(word1,word2),\n",
    "    model1.similarity(word1, word2))"
   ]
  },
  {
   "cell_type": "code",
   "execution_count": null,
   "id": "0169a570",
   "metadata": {},
   "outputs": [],
   "source": [
    "model1.most_similar('germany')[:5]"
   ]
  },
  {
   "cell_type": "code",
   "execution_count": null,
   "id": "0f3851f8",
   "metadata": {},
   "outputs": [],
   "source": [
    "tempdf = tesla.df.copy()\n",
    "tempdf['label'] = tempdf.apply(\n",
    "    lambda row : int(row.percent_change > 0)\n",
    "    ,axis=1)\n",
    "tempdf.loc[tempdf['percent_change'].isna(), 'label'] = np.nan"
   ]
  },
  {
   "cell_type": "code",
   "execution_count": null,
   "id": "9a5622a2",
   "metadata": {
    "scrolled": true
   },
   "outputs": [],
   "source": [
    "tempdf['label'].hist()"
   ]
  },
  {
   "cell_type": "code",
   "execution_count": null,
   "id": "d6bca118",
   "metadata": {},
   "outputs": [],
   "source": [
    "def word_vectorize(wd):\n",
    "    if wd in model1.wv.vocab:\n",
    "        return model1[wd.lower()]\n",
    "    else:\n",
    "        return np.zeros(5000)*np.nan\n",
    "def mean_vectorize(tx):\n",
    "    temp = np.nanmean([word_vectorize(i) for i in word_tokenize(tx)],axis=0).tolist()\n",
    "    return temp\n",
    "dataset = tempdf.dropna()\n",
    "inputs = dataset[['text']].apply(\n",
    "    lambda row : mean_vectorize(row.text)\n",
    "    ,axis=1).tolist()"
   ]
  },
  {
   "cell_type": "code",
   "execution_count": null,
   "id": "b697045c",
   "metadata": {},
   "outputs": [],
   "source": [
    "from sklearn.model_selection import train_test_split\n",
    "X_train, X_test, y_train, y_test = train_test_split(inputs, dataset['label'].astype(int), test_size=0.3, shuffle=True)"
   ]
  },
  {
   "cell_type": "code",
   "execution_count": null,
   "id": "43287588",
   "metadata": {},
   "outputs": [],
   "source": [
    "from sklearn.ensemble import RandomForestClassifier\n",
    "clf = RandomForestClassifier(n_estimators=100,)\n",
    "clf.fit(X_train, y_train)\n",
    "print(clf.score(X_train,y_train))\n",
    "print(clf.score(X_test,y_test))"
   ]
  },
  {
   "cell_type": "code",
   "execution_count": null,
   "id": "42e817e5",
   "metadata": {},
   "outputs": [],
   "source": [
    "from sklearn.linear_model import SGDClassifier\n",
    "sgd = SGDClassifier(max_iter=20000, tol=1e-5,shuffle=True)\n",
    "sgd.fit(X_train, y_train)\n",
    "print(sgd.score(X_train,y_train))\n",
    "print(sgd.score(X_test,y_test))"
   ]
  },
  {
   "cell_type": "code",
   "execution_count": null,
   "id": "e8645712",
   "metadata": {},
   "outputs": [],
   "source": [
    "tesla.load_data()\n",
    "tesla.add_data(date.today()-timedelta(days=0))\n",
    "inputs = tesla.get_data(date.today()-timedelta(days=0))[['text']].apply(\n",
    "    lambda row : mean_vectorize(row.text)\n",
    "    ,axis=1).tolist()\n",
    "# 0 is decrease, 1 is increase"
   ]
  },
  {
   "cell_type": "code",
   "execution_count": null,
   "id": "8e847981",
   "metadata": {
    "scrolled": true
   },
   "outputs": [],
   "source": [
    "sns.countplot(clf.predict(inputs))"
   ]
  },
  {
   "cell_type": "code",
   "execution_count": null,
   "id": "8d1496fa",
   "metadata": {},
   "outputs": [],
   "source": [
    "sns.countplot(sgd.predict(inputs))"
   ]
  },
  {
   "cell_type": "code",
   "execution_count": null,
   "id": "f5b6173d",
   "metadata": {},
   "outputs": [],
   "source": [
    "tesla.get_data(date.today()-timedelta(days=0))"
   ]
  },
  {
   "cell_type": "code",
   "execution_count": null,
   "id": "9829f4a0",
   "metadata": {},
   "outputs": [],
   "source": []
  }
 ],
 "metadata": {
  "kernelspec": {
   "display_name": "Python 3 (ipykernel)",
   "language": "python",
   "name": "python3"
  },
  "language_info": {
   "codemirror_mode": {
    "name": "ipython",
    "version": 3
   },
   "file_extension": ".py",
   "mimetype": "text/x-python",
   "name": "python",
   "nbconvert_exporter": "python",
   "pygments_lexer": "ipython3",
   "version": "3.9.7"
  }
 },
 "nbformat": 4,
 "nbformat_minor": 5
}
