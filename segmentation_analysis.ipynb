{
 "cells": [
  {
   "cell_type": "code",
   "execution_count": 1,
   "id": "408e40f6",
   "metadata": {
    "scrolled": true
   },
   "outputs": [
    {
     "name": "stdout",
     "output_type": "stream",
     "text": [
      "done loading $tsla data.\n"
     ]
    }
   ],
   "source": [
    "from datetime import date, timedelta, datetime\n",
    "\n",
    "from Stock import *\n",
    "\n",
    "s = date(2020,1,1)\n",
    "e = date(2021,12,20)\n",
    "tesla = Stock(\"tsla\")\n",
    "tesla.load_data()\n",
    "#tesla.add_data_range(s,e,stockpath='pricedata/tsla.csv')\n",
    "#tesla.save_data()"
   ]
  },
  {
   "cell_type": "code",
   "execution_count": 2,
   "id": "6c1a4823",
   "metadata": {},
   "outputs": [],
   "source": [
    "from nltk.tokenize import sent_tokenize, word_tokenize\n",
    "import warnings\n",
    "  \n",
    "warnings.filterwarnings(action = 'ignore')\n",
    "  \n",
    "import gensim\n",
    "from gensim.models import Word2Vec\n",
    "import seaborn as sns"
   ]
  },
  {
   "cell_type": "code",
   "execution_count": 3,
   "id": "ef72a038",
   "metadata": {},
   "outputs": [],
   "source": [
    "data = []\n",
    "for j in tesla.df['text'].values:\n",
    "    temp = [i.lower() for i in word_tokenize(j)]\n",
    "    data.append(temp)"
   ]
  },
  {
   "cell_type": "code",
   "execution_count": 4,
   "id": "879dbbaf",
   "metadata": {},
   "outputs": [],
   "source": [
    "model1 = gensim.models.Word2Vec(data, min_count = 1, \n",
    "                              size = 1000, window = 5, workers=5, sg=1)"
   ]
  },
  {
   "cell_type": "code",
   "execution_count": 5,
   "id": "4b78f4ca",
   "metadata": {},
   "outputs": [
    {
     "name": "stdout",
     "output_type": "stream",
     "text": [
      "Cosine similarity between 'good' and 'bad' 0.66275775\n"
     ]
    }
   ],
   "source": [
    "word1 = \"good\"\n",
    "word2 = \"bad\"\n",
    "print(\"Cosine similarity between '{}' and '{}'\".format(word1,word2),\n",
    "    model1.similarity(word1, word2))"
   ]
  },
  {
   "cell_type": "code",
   "execution_count": 6,
   "id": "0169a570",
   "metadata": {},
   "outputs": [
    {
     "data": {
      "text/plain": [
       "[('hungary', 0.6843369007110596),\n",
       " ('portugal', 0.6758784055709839),\n",
       " ('austria', 0.6675060391426086),\n",
       " ('greece', 0.6674923896789551),\n",
       " ('poland', 0.6661850810050964)]"
      ]
     },
     "execution_count": 6,
     "metadata": {},
     "output_type": "execute_result"
    }
   ],
   "source": [
    "model1.most_similar('germany')[:5]"
   ]
  },
  {
   "cell_type": "code",
   "execution_count": 7,
   "id": "0f3851f8",
   "metadata": {},
   "outputs": [],
   "source": [
    "tempdf = tesla.df.copy()\n",
    "tempdf['label'] = tempdf.apply(\n",
    "    lambda row : int(row.percent_change > 0)\n",
    "    ,axis=1)\n",
    "tempdf.loc[tempdf['percent_change'].isna(), 'label'] = np.nan"
   ]
  },
  {
   "cell_type": "code",
   "execution_count": 8,
   "id": "9a5622a2",
   "metadata": {
    "scrolled": true
   },
   "outputs": [
    {
     "data": {
      "text/plain": [
       "<AxesSubplot:>"
      ]
     },
     "execution_count": 8,
     "metadata": {},
     "output_type": "execute_result"
    },
    {
     "data": {
      "image/png": "[encoded data removed]",
      "text/plain": [
       "<Figure size 432x288 with 1 Axes>"
      ]
     },
     "metadata": {
      "needs_background": "light"
     },
     "output_type": "display_data"
    }
   ],
   "source": [
    "tempdf['label'].hist()"
   ]
  },
  {
   "cell_type": "code",
   "execution_count": 9,
   "id": "d6bca118",
   "metadata": {},
   "outputs": [],
   "source": [
    "def word_vectorize(wd):\n",
    "    if wd in model1.wv.vocab:\n",
    "        return model1[wd.lower()]\n",
    "    else:\n",
    "        return np.zeros(1000)*np.nan\n",
    "def mean_vectorize(tx):\n",
    "    temp = np.nanmean([word_vectorize(i) for i in word_tokenize(tx)],axis=0).tolist()\n",
    "    return temp\n",
    "dataset = tempdf.dropna()\n",
    "inputs = dataset[['text']].apply(\n",
    "    lambda row : mean_vectorize(row.text)\n",
    "    ,axis=1).tolist()"
   ]
  },
  {
   "cell_type": "code",
   "execution_count": 10,
   "id": "b697045c",
   "metadata": {},
   "outputs": [],
   "source": [
    "from sklearn.model_selection import train_test_split\n",
    "X_train, X_test, y_train, y_test = train_test_split(inputs, dataset['label'].astype(int), test_size=0.3, shuffle=True)"
   ]
  },
  {
   "cell_type": "code",
   "execution_count": 11,
   "id": "43287588",
   "metadata": {},
   "outputs": [
    {
     "name": "stdout",
     "output_type": "stream",
     "text": [
      "0.9801778907242694\n",
      "0.5358624777711914\n"
     ]
    }
   ],
   "source": [
    "from sklearn.ensemble import RandomForestClassifier\n",
    "clf = RandomForestClassifier(n_estimators=100,)\n",
    "clf.fit(X_train, y_train)\n",
    "print(clf.score(X_train,y_train))\n",
    "print(clf.score(X_test,y_test))"
   ]
  },
  {
   "cell_type": "code",
   "execution_count": 36,
   "id": "42e817e5",
   "metadata": {},
   "outputs": [
    {
     "name": "stdout",
     "output_type": "stream",
     "text": [
      "0.5588310038119441\n",
      "0.5103734439834025\n"
     ]
    }
   ],
   "source": [
    "from sklearn.linear_model import SGDClassifier\n",
    "sgd = SGDClassifier(max_iter=1000, tol=1e-5,shuffle=True)\n",
    "sgd.fit(X_train, y_train)\n",
    "print(sgd.score(X_train,y_train))\n",
    "print(sgd.score(X_test,y_test))"
   ]
  },
  {
   "cell_type": "code",
   "execution_count": 31,
   "id": "11da93cc",
   "metadata": {},
   "outputs": [
    {
     "name": "stdout",
     "output_type": "stream",
     "text": [
      "0.5316391359593393\n",
      "0.5020746887966805\n"
     ]
    }
   ],
   "source": [
    "from sklearn.svm import SVC\n",
    "vm = SVC()\n",
    "vm.fit(X_train,y_train)\n",
    "print(vm.score(X_train,y_train))\n",
    "print(vm.score(X_test,y_test))"
   ]
  },
  {
   "cell_type": "code",
   "execution_count": 25,
   "id": "e8645712",
   "metadata": {},
   "outputs": [
    {
     "name": "stdout",
     "output_type": "stream",
     "text": [
      "done loading $tsla data.\n"
     ]
    }
   ],
   "source": [
    "tesla.load_data()\n",
    "tesla.add_data(date.today()-timedelta(days=0))\n",
    "inputs = tesla.get_data(date.today()-timedelta(days=0))[['text']].apply(\n",
    "    lambda row : mean_vectorize(row.text)\n",
    "    ,axis=1).tolist()"
   ]
  },
  {
   "cell_type": "code",
   "execution_count": 37,
   "id": "cb541336",
   "metadata": {},
   "outputs": [
    {
     "name": "stdout",
     "output_type": "stream",
     "text": [
      "[1 0 1 1 1 0 1 1 1 1]\n",
      "[1 1 1 1 1 1 1 1 1 0]\n",
      "[1 1 1 1 0 0 0 1 1 0]\n"
     ]
    }
   ],
   "source": [
    "# 0 is decrease, 1 is increase\n",
    "print(clf.predict(inputs))\n",
    "print(sgd.predict(inputs))\n",
    "print(vm.predict(inputs))"
   ]
  },
  {
   "cell_type": "code",
   "execution_count": 27,
   "id": "f5b6173d",
   "metadata": {},
   "outputs": [
    {
     "data": {
      "text/html": [
       "<div>\n",
       "<style scoped>\n",
       "    .dataframe tbody tr th:only-of-type {\n",
       "        vertical-align: middle;\n",
       "    }\n",
       "\n",
       "    .dataframe tbody tr th {\n",
       "        vertical-align: top;\n",
       "    }\n",
       "\n",
       "    .dataframe thead th {\n",
       "        text-align: right;\n",
       "    }\n",
       "</style>\n",
       "<table border=\"1\" class=\"dataframe\">\n",
       "  <thead>\n",
       "    <tr style=\"text-align: right;\">\n",
       "      <th></th>\n",
       "      <th>tag</th>\n",
       "      <th>date</th>\n",
       "      <th>link</th>\n",
       "      <th>percent_change</th>\n",
       "      <th>text</th>\n",
       "    </tr>\n",
       "  </thead>\n",
       "  <tbody>\n",
       "    <tr>\n",
       "      <th>7988</th>\n",
       "      <td>tsla</td>\n",
       "      <td>2021-12-29</td>\n",
       "      <td>https://www.reuters.com/business/teslas-musk-c...</td>\n",
       "      <td>NaN</td>\n",
       "      <td>Tesla CEO Elon Musk attends the Tesla Shanghai...</td>\n",
       "    </tr>\n",
       "    <tr>\n",
       "      <th>7989</th>\n",
       "      <td>tsla</td>\n",
       "      <td>2021-12-29</td>\n",
       "      <td>https://www.cnn.com/2021/12/29/investing/elon-...</td>\n",
       "      <td>NaN</td>\n",
       "      <td>New York CNN BusinessElon Musk appears to have...</td>\n",
       "    </tr>\n",
       "    <tr>\n",
       "      <th>7990</th>\n",
       "      <td>tsla</td>\n",
       "      <td>2021-12-29</td>\n",
       "      <td>https://www.mercurynews.com/2021/12/29/musk-ne...</td>\n",
       "      <td>NaN</td>\n",
       "      <td>Elon Musk sold a further billion of Tesla Inc ...</td>\n",
       "    </tr>\n",
       "    <tr>\n",
       "      <th>7991</th>\n",
       "      <td>tsla</td>\n",
       "      <td>2021-12-29</td>\n",
       "      <td>https://electrek.co/2021/12/29/tesla-sponsorin...</td>\n",
       "      <td>NaN</td>\n",
       "      <td>Tesla is going to start sponsoring Formula SAE...</td>\n",
       "    </tr>\n",
       "    <tr>\n",
       "      <th>7992</th>\n",
       "      <td>tsla</td>\n",
       "      <td>2021-12-29</td>\n",
       "      <td>https://cnevpost.com/2021/12/29/tesla-exec-say...</td>\n",
       "      <td>NaN</td>\n",
       "      <td>Subsidy rollbacks wont mean less competitivene...</td>\n",
       "    </tr>\n",
       "    <tr>\n",
       "      <th>7993</th>\n",
       "      <td>tsla</td>\n",
       "      <td>2021-12-29</td>\n",
       "      <td>https://www.usatoday.com/story/tech/2021/12/29...</td>\n",
       "      <td>NaN</td>\n",
       "      <td>Hit play on the player above to hear the podca...</td>\n",
       "    </tr>\n",
       "    <tr>\n",
       "      <th>7994</th>\n",
       "      <td>tsla</td>\n",
       "      <td>2021-12-29</td>\n",
       "      <td>https://auto.hindustantimes.com/auto/cars/watc...</td>\n",
       "      <td>NaN</td>\n",
       "      <td>Tesla is synonymous with innovations and disru...</td>\n",
       "    </tr>\n",
       "    <tr>\n",
       "      <th>7995</th>\n",
       "      <td>tsla</td>\n",
       "      <td>2021-12-29</td>\n",
       "      <td>https://www.taiwannews.com.tw/en/news/4391914</td>\n",
       "      <td>NaN</td>\n",
       "      <td>Tesla CEO Elon Musk attends the Tesla Shanghai...</td>\n",
       "    </tr>\n",
       "    <tr>\n",
       "      <th>7996</th>\n",
       "      <td>tsla</td>\n",
       "      <td>2021-12-29</td>\n",
       "      <td>https://teslanorth.com/2021/12/29/best-tesla-l...</td>\n",
       "      <td>NaN</td>\n",
       "      <td>Tesla expanded its holiday Light Show feature ...</td>\n",
       "    </tr>\n",
       "    <tr>\n",
       "      <th>7997</th>\n",
       "      <td>tsla</td>\n",
       "      <td>2021-12-29</td>\n",
       "      <td>https://nypost.com/2021/12/29/elon-musk-addres...</td>\n",
       "      <td>NaN</td>\n",
       "      <td>Tesla CEO Elon Musk has weighed in with his th...</td>\n",
       "    </tr>\n",
       "  </tbody>\n",
       "</table>\n",
       "</div>"
      ],
      "text/plain": [
       "       tag        date                                               link  \\\n",
       "7988  tsla  2021-12-29  https://www.reuters.com/business/teslas-musk-c...   \n",
       "7989  tsla  2021-12-29  https://www.cnn.com/2021/12/29/investing/elon-...   \n",
       "7990  tsla  2021-12-29  https://www.mercurynews.com/2021/12/29/musk-ne...   \n",
       "7991  tsla  2021-12-29  https://electrek.co/2021/12/29/tesla-sponsorin...   \n",
       "7992  tsla  2021-12-29  https://cnevpost.com/2021/12/29/tesla-exec-say...   \n",
       "7993  tsla  2021-12-29  https://www.usatoday.com/story/tech/2021/12/29...   \n",
       "7994  tsla  2021-12-29  https://auto.hindustantimes.com/auto/cars/watc...   \n",
       "7995  tsla  2021-12-29      https://www.taiwannews.com.tw/en/news/4391914   \n",
       "7996  tsla  2021-12-29  https://teslanorth.com/2021/12/29/best-tesla-l...   \n",
       "7997  tsla  2021-12-29  https://nypost.com/2021/12/29/elon-musk-addres...   \n",
       "\n",
       "      percent_change                                               text  \n",
       "7988             NaN  Tesla CEO Elon Musk attends the Tesla Shanghai...  \n",
       "7989             NaN  New York CNN BusinessElon Musk appears to have...  \n",
       "7990             NaN  Elon Musk sold a further billion of Tesla Inc ...  \n",
       "7991             NaN  Tesla is going to start sponsoring Formula SAE...  \n",
       "7992             NaN  Subsidy rollbacks wont mean less competitivene...  \n",
       "7993             NaN  Hit play on the player above to hear the podca...  \n",
       "7994             NaN  Tesla is synonymous with innovations and disru...  \n",
       "7995             NaN  Tesla CEO Elon Musk attends the Tesla Shanghai...  \n",
       "7996             NaN  Tesla expanded its holiday Light Show feature ...  \n",
       "7997             NaN  Tesla CEO Elon Musk has weighed in with his th...  "
      ]
     },
     "execution_count": 27,
     "metadata": {},
     "output_type": "execute_result"
    }
   ],
   "source": [
    "tesla.get_data(date.today()-timedelta(days=0))"
   ]
  },
  {
   "cell_type": "code",
   "execution_count": 43,
   "id": "9829f4a0",
   "metadata": {},
   "outputs": [
    {
     "data": {
      "text/plain": [
       "'Subsidy rollbacks wont mean less competitiveness for NEVs but will instead promote a more mature industry said Grace Tao Teslas global vice president Chinas subsidies for new energy vehicles NEVs are about to be slashed in a few days and in the view of a Tesla China executive thats actually a good thing for the industry With strong support from the government the NEV industry is growing rapidly Rather than making NEVs less competitive the subsidy rollback will promote a more mature industry said Grace Tao Teslas global vice president Tao said this in a recent interview with The Beijing News saying that competition in NEVs will enter a stage where it will really rely on product strength according to a text of the interview Chinas Ministry of Finance released plans on April that the subsidies offered for NEVs would be scaled back each year calling for the amount of subsidies to be reduced by percent percent and percent each year from respectively from the previous year The subsidies available to car buyers are based on when the new car gets its license plate which means that if consumers place an order at the end of the year but get it delivered next year the amount of state subsidies they can enjoy will be reduced by percent compared to The plan also mentioned that from onwards new energy passenger cars must be priced below RMB including yuan before subsidies are available However in order to encourage the development of battery swap as a new business model vehicles supporting the model are not subject to this requirement Therefore even though the starting price of all NIO models is higher than RMB consumers can still enjoy the national subsidy Tesla already took action at the end of last month raising the price of both the entrylevel Chinamade Model and Model Y by RMB The price hike is based on the withdrawal of Chinas NEV subsidies next year as owners who place orders now will not receive deliveries until a Tesla source previously told nbd com cn In the interview with The Beijing News Tao also said that over the past two years Tesla has formed an increasingly complete industrial chain in China with more than percent of its components coming locally and more than percent of Teslas China employees being Chinese In the new year Tesla will continue to increase its investment in China especially in charging network construction technology development she said Asked why Tesla did not adopt the battery swap model Tao said Tesla tried this technology in allowing vehicles to complete battery swaps in about seconds But after experimentation and consideration we felt that the charging model offered more advantages and was better for accelerating the adoption of electric mobility she said Improving charging efficiency and expanding charging piles is critical and Tesla will accelerate the construction of charging lines to cover more cities she said Tao also mentioned that Teslas Shanghai Gigafactory production has surpassed the US Fremont plant in the third quarter all under the premise of ensuring product quality '"
      ]
     },
     "execution_count": 43,
     "metadata": {},
     "output_type": "execute_result"
    }
   ],
   "source": [
    "tesla.df.iloc[7988+4]['text']"
   ]
  },
  {
   "cell_type": "code",
   "execution_count": null,
   "id": "350be3a4",
   "metadata": {},
   "outputs": [],
   "source": []
  }
 ],
 "metadata": {
  "kernelspec": {
   "display_name": "Python 3 (ipykernel)",
   "language": "python",
   "name": "python3"
  },
  "language_info": {
   "codemirror_mode": {
    "name": "ipython",
    "version": 3
   },
   "file_extension": ".py",
   "mimetype": "text/x-python",
   "name": "python",
   "nbconvert_exporter": "python",
   "pygments_lexer": "ipython3",
   "version": "3.9.7"
  }
 },
 "nbformat": 4,
 "nbformat_minor": 5
}
