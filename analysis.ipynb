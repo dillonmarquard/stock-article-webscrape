{
 "cells": [
  {
   "cell_type": "code",
   "execution_count": 161,
   "metadata": {},
   "outputs": [
    {
     "name": "stdout",
     "output_type": "stream",
     "text": [
      "done loading $tsla data.\n"
     ]
    }
   ],
   "source": [
    "from datetime import date, timedelta\n",
    "\n",
    "from Stock import *\n",
    "\n",
    "s = date(2020,1,1)\n",
    "e = date(2021,12,20)\n",
    "tesla = Stock(\"tsla\")\n",
    "tesla.load_data()\n",
    "#tesla.add_data_range(s,e,stockpath='pricedata/tsla.csv')\n",
    "#tesla.save_data()\n",
    "\n",
    "# adding individual days\n",
    "#tesla.add_data(s)"
   ]
  },
  {
   "cell_type": "code",
   "execution_count": 162,
   "metadata": {},
   "outputs": [
    {
     "name": "stdout",
     "output_type": "stream",
     "text": [
      "4518\n",
      "2259\n",
      "2259\n"
     ]
    },
    {
     "name": "stderr",
     "output_type": "stream",
     "text": [
      "d:\\dmarq\\tools\\python37\\lib\\site-packages\\ipykernel_launcher.py:8: SettingWithCopyWarning: \n",
      "A value is trying to be set on a copy of a slice from a DataFrame.\n",
      "Try using .loc[row_indexer,col_indexer] = value instead\n",
      "\n",
      "See the caveats in the documentation: https://pandas.pydata.org/pandas-docs/stable/user_guide/indexing.html#returning-a-view-versus-a-copy\n",
      "  \n"
     ]
    }
   ],
   "source": [
    "# Analysis\n",
    "import seaborn as sns\n",
    "import matplotlib.pyplot as plt\n",
    "import re\n",
    "\n",
    "df = tesla.df.dropna()\n",
    "df['domain'] = df.apply(\n",
    "    lambda row: re.sub('www3.|www.','',row.link.split('//')[1].split('/')[0]), axis=1)\n",
    "df1 = df.sample(frac=0.5)\n",
    "df2 = df.drop(df1.index)\n",
    "print(len(df))\n",
    "print(len(df1))\n",
    "print(len(df2))"
   ]
  },
  {
   "cell_type": "code",
   "execution_count": 201,
   "metadata": {},
   "outputs": [],
   "source": [
    "count = {}\n",
    "for p, tx in df1[['percent_change','text']].values:\n",
    "    tx = re.sub('[^a-zA-Z ]',' ',tx)\n",
    "    for word in tx.split():\n",
    "        if word.lower() not in count:\n",
    "            count[word.lower()] = [0,0]\n",
    "        count[word.lower()][p < 0] += 1"
   ]
  },
  {
   "cell_type": "code",
   "execution_count": 202,
   "metadata": {},
   "outputs": [],
   "source": [
    "prob = {k:list(np.array(count[k])/(sum(count[k]))) for k in count}"
   ]
  },
  {
   "cell_type": "code",
   "execution_count": 207,
   "metadata": {
    "scrolled": false
   },
   "outputs": [
    {
     "name": "stdout",
     "output_type": "stream",
     "text": [
      "shall [0.983957219251337, 0.016042780748663103] [184, 3]\n",
      "dated [0.972972972972973, 0.02702702702702703] [108, 3]\n",
      "corporation [0.9575757575757575, 0.04242424242424243] [158, 7]\n",
      "proposal [0.9523809523809523, 0.047619047619047616] [100, 5]\n",
      "vote [0.9051724137931034, 0.09482758620689655] [105, 11]\n",
      "officers [0.9042553191489362, 0.09574468085106383] [85, 9]\n",
      "stockholders [0.8867924528301887, 0.11320754716981132] [141, 18]\n",
      "committee [0.8741258741258742, 0.1258741258741259] [125, 18]\n",
      "directors [0.8631178707224335, 0.13688212927756654] [227, 36]\n",
      "amended [0.8414634146341463, 0.15853658536585366] [69, 13]\n",
      "notice [0.828125, 0.171875] [106, 22]\n",
      "meeting [0.8148148148148148, 0.18518518518518517] [242, 55]\n",
      "stockholder [0.7948717948717948, 0.20512820512820512] [93, 24]\n",
      "compensation [0.7771084337349398, 0.22289156626506024] [129, 37]\n",
      "named [0.7608695652173914, 0.2391304347826087] [70, 22]\n",
      "solarcity [0.75, 0.25] [150, 50]\n",
      "subject [0.7397260273972602, 0.2602739726027397] [162, 57]\n",
      "series [0.7277777777777777, 0.2722222222222222] [131, 49]\n",
      "board [0.7265469061876247, 0.27345309381237526] [364, 137]\n",
      "letter [0.7181818181818181, 0.2818181818181818] [79, 31]\n",
      "applicable [0.7152777777777778, 0.2847222222222222] [103, 41]\n",
      "balance [0.7099236641221374, 0.2900763358778626] [93, 38]\n",
      "officer [0.7004608294930875, 0.2995391705069124] [152, 65]\n",
      "vw [0.2818181818181818, 0.7181818181818181] [31, 79]\n",
      "bitcoin [0.2677966101694915, 0.7322033898305085] [79, 216]\n",
      "game [0.24489795918367346, 0.7551020408163265] [24, 74]\n",
      "mining [0.21839080459770116, 0.7816091954022989] [19, 68]\n"
     ]
    }
   ],
   "source": [
    "for k in sorted(prob,key=prob.get,reverse=True):\n",
    "    if (prob[k][0] >= 0.70 or prob[k][0] <= 0.30) and sum(count[k]) > 75:\n",
    "        print(k,prob[k],count[k])"
   ]
  },
  {
   "cell_type": "code",
   "execution_count": null,
   "metadata": {},
   "outputs": [],
   "source": []
  }
 ],
 "metadata": {
  "kernelspec": {
   "display_name": "Python 3",
   "language": "python",
   "name": "python3"
  },
  "language_info": {
   "codemirror_mode": {
    "name": "ipython",
    "version": 3
   },
   "file_extension": ".py",
   "mimetype": "text/x-python",
   "name": "python",
   "nbconvert_exporter": "python",
   "pygments_lexer": "ipython3",
   "version": "3.7.9"
  }
 },
 "nbformat": 4,
 "nbformat_minor": 4
}
