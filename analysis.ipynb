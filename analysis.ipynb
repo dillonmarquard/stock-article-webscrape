{
 "cells": [
  {
   "cell_type": "code",
   "execution_count": 357,
   "metadata": {},
   "outputs": [
    {
     "name": "stdout",
     "output_type": "stream",
     "text": [
      "done loading $tsla data.\n"
     ]
    }
   ],
   "source": [
    "from datetime import date, timedelta\n",
    "\n",
    "from Stock import *\n",
    "\n",
    "s = date(2020,1,1)\n",
    "e = date(2021,12,20)\n",
    "tesla = Stock(\"tsla\")\n",
    "tesla.load_data()\n",
    "#tesla.add_data_range(s,e,stockpath='pricedata/tsla.csv')\n",
    "#tesla.save_data()\n",
    "\n",
    "# adding individual days\n",
    "#tesla.add_data(s)"
   ]
  },
  {
   "cell_type": "code",
   "execution_count": 400,
   "metadata": {},
   "outputs": [
    {
     "data": {
      "text/plain": [
       "6701"
      ]
     },
     "execution_count": 400,
     "metadata": {},
     "output_type": "execute_result"
    }
   ],
   "source": [
    "len(tesla.df)"
   ]
  },
  {
   "cell_type": "code",
   "execution_count": 878,
   "metadata": {},
   "outputs": [
    {
     "name": "stdout",
     "output_type": "stream",
     "text": [
      "4048\n",
      "2024\n",
      "2024\n"
     ]
    },
    {
     "name": "stderr",
     "output_type": "stream",
     "text": [
      "/tmp/ipykernel_3769/2263100439.py:7: SettingWithCopyWarning: \n",
      "A value is trying to be set on a copy of a slice from a DataFrame.\n",
      "Try using .loc[row_indexer,col_indexer] = value instead\n",
      "\n",
      "See the caveats in the documentation: https://pandas.pydata.org/pandas-docs/stable/user_guide/indexing.html#returning-a-view-versus-a-copy\n",
      "  df['domain'] = df.apply(\n"
     ]
    }
   ],
   "source": [
    "# Analysis\n",
    "import seaborn as sns\n",
    "import matplotlib.pyplot as plt\n",
    "import re\n",
    "\n",
    "df = tesla.df.dropna()\n",
    "df['domain'] = df.apply(\n",
    "    lambda row: re.sub('www3.|www.','',row.link.split('//')[1].split('/')[0]), axis=1)\n",
    "df1 = df.iloc[0:len(df)//2] #df.sample(frac=0.5)\n",
    "df2 = df.drop(df1.index)\n",
    "print(len(df))\n",
    "print(len(df1))\n",
    "print(len(df2))"
   ]
  },
  {
   "cell_type": "code",
   "execution_count": 879,
   "metadata": {},
   "outputs": [],
   "source": [
    "count = {}\n",
    "for p, tx in df1[['percent_change','text']].values:\n",
    "    tx = re.sub('[^a-zA-Z ]',' ',tx)\n",
    "    for word in tx.split():\n",
    "        if word.lower() not in count:\n",
    "            count[word.lower()] = [0,0]\n",
    "        count[word.lower()][p < 0] += 1"
   ]
  },
  {
   "cell_type": "code",
   "execution_count": 880,
   "metadata": {},
   "outputs": [],
   "source": [
    "prob = {k:list(np.array(count[k])/(sum(count[k]))) for k in count}"
   ]
  },
  {
   "cell_type": "code",
   "execution_count": 881,
   "metadata": {},
   "outputs": [
    {
     "data": {
      "text/plain": [
       "21549"
      ]
     },
     "execution_count": 881,
     "metadata": {},
     "output_type": "execute_result"
    }
   ],
   "source": [
    "len(prob)"
   ]
  },
  {
   "cell_type": "code",
   "execution_count": 882,
   "metadata": {
    "scrolled": true
   },
   "outputs": [
    {
     "name": "stdout",
     "output_type": "stream",
     "text": [
      "--------- positive ---------\n",
      "xi [1.0, 0.0] [26, 0]\n",
      "balan [1.0, 0.0] [26, 0]\n",
      "redwood [0.9615384615384616, 0.038461538461538464] [25, 1]\n",
      "squeeze [0.9024390243902439, 0.0975609756097561] [37, 4]\n",
      "beijing [0.8793103448275862, 0.1206896551724138] [51, 7]\n",
      "walmart [0.8666666666666667, 0.13333333333333333] [26, 4]\n",
      "comparing [0.8620689655172413, 0.13793103448275862] [25, 4]\n",
      "nvidia [0.8571428571428571, 0.14285714285714285] [36, 6]\n",
      "gabriel [0.8461538461538461, 0.15384615384615385] [22, 4]\n",
      "petition [0.82, 0.18] [41, 9]\n",
      "nations [0.8148148148148148, 0.18518518518518517] [22, 5]\n",
      "sparks [0.8148148148148148, 0.18518518518518517] [22, 5]\n",
      "twenty [0.8064516129032258, 0.1935483870967742] [25, 6]\n",
      "patents [0.7954545454545454, 0.20454545454545456] [35, 9]\n",
      "plane [0.7931034482758621, 0.20689655172413793] [23, 6]\n",
      "forty [0.7878787878787878, 0.21212121212121213] [26, 7]\n",
      "unintended [0.7878787878787878, 0.21212121212121213] [26, 7]\n",
      "iron [0.7878787878787878, 0.21212121212121213] [26, 7]\n",
      "trim [0.7857142857142857, 0.21428571428571427] [22, 6]\n",
      "straubel [0.7857142857142857, 0.21428571428571427] [22, 6]\n",
      "powerpack [0.7837837837837838, 0.21621621621621623] [29, 8]\n",
      "megawatt [0.78125, 0.21875] [25, 7]\n",
      "sudden [0.78125, 0.21875] [25, 7]\n",
      "implies [0.7777777777777778, 0.2222222222222222] [21, 6]\n",
      "seventy [0.7777777777777778, 0.2222222222222222] [21, 6]\n",
      "thirty [0.7777777777777778, 0.2222222222222222] [28, 8]\n",
      "learning [0.7777777777777778, 0.2222222222222222] [28, 8]\n",
      "requested [0.7777777777777778, 0.2222222222222222] [21, 6]\n",
      "proven [0.7741935483870968, 0.22580645161290322] [24, 7]\n",
      "theft [0.7741935483870968, 0.22580645161290322] [24, 7]\n",
      "recycling [0.7727272727272727, 0.22727272727272727] [34, 10]\n",
      "signal [0.7692307692307693, 0.23076923076923078] [20, 6]\n",
      "rivian [0.7692307692307693, 0.23076923076923078] [30, 9]\n",
      "elected [0.7692307692307693, 0.23076923076923078] [20, 6]\n",
      "sixty [0.7666666666666667, 0.23333333333333334] [23, 7]\n",
      "students [0.7666666666666667, 0.23333333333333334] [23, 7]\n",
      "powerwall [0.7662337662337663, 0.23376623376623376] [59, 18]\n",
      "fifty [0.7647058823529411, 0.23529411764705882] [26, 8]\n",
      "declining [0.7647058823529411, 0.23529411764705882] [26, 8]\n",
      "renault [0.7647058823529411, 0.23529411764705882] [26, 8]\n",
      "officers [0.7631578947368421, 0.23684210526315788] [29, 9]\n",
      "f [0.7619047619047619, 0.23809523809523808] [32, 10]\n",
      "agent [0.759493670886076, 0.24050632911392406] [60, 19]\n",
      "wood [0.7592592592592593, 0.24074074074074073] [41, 13]\n",
      "incidents [0.7586206896551724, 0.2413793103448276] [22, 7]\n",
      "phosphate [0.7586206896551724, 0.2413793103448276] [22, 7]\n",
      "outstanding [0.75, 0.25] [48, 16]\n",
      "threshold [0.75, 0.25] [21, 7]\n",
      "discount [0.75, 0.25] [27, 9]\n",
      "restated [0.75, 0.25] [87, 29]\n",
      "indenture [0.75, 0.25] [186, 62]\n",
      "trustee [0.75, 0.25] [174, 58]\n",
      "lml [0.75, 0.25] [21, 7]\n",
      "spv [0.75, 0.25] [27, 9]\n",
      "triex [0.75, 0.25] [30, 10]\n",
      "nanoscale [0.75, 0.25] [30, 10]\n",
      "supplemental [0.748, 0.252] [187, 63]\n",
      "dated [0.7451923076923077, 0.2548076923076923] [310, 106]\n",
      "war [0.7450980392156863, 0.2549019607843137] [38, 13]\n",
      "accrued [0.7450980392156863, 0.2549019607843137] [38, 13]\n",
      "phev [0.7441860465116279, 0.2558139534883721] [32, 11]\n",
      "therein [0.7424242424242424, 0.25757575757575757] [49, 17]\n",
      "implied [0.7419354838709677, 0.25806451612903225] [23, 8]\n",
      "thesis [0.7407407407407407, 0.25925925925925924] [20, 7]\n",
      "hong [0.7407407407407407, 0.25925925925925924] [20, 7]\n",
      "kong [0.7407407407407407, 0.25925925925925924] [20, 7]\n",
      "amendment [0.7407407407407407, 0.25925925925925924] [80, 28]\n",
      "submit [0.7407407407407407, 0.25925925925925924] [20, 7]\n",
      "apps [0.7407407407407407, 0.25925925925925924] [20, 7]\n",
      "branch [0.7391304347826086, 0.2608695652173913] [68, 24]\n",
      "economics [0.7352941176470589, 0.2647058823529412] [25, 9]\n",
      "expensed [0.7352941176470589, 0.2647058823529412] [25, 9]\n",
      "amended [0.7348837209302326, 0.2651162790697674] [158, 57]\n",
      "b [0.7333333333333333, 0.26666666666666666] [77, 28]\n",
      "grew [0.7333333333333333, 0.26666666666666666] [33, 12]\n",
      "seeks [0.7333333333333333, 0.26666666666666666] [44, 16]\n",
      "registrant [0.7333333333333333, 0.26666666666666666] [198, 72]\n",
      "transfers [0.7333333333333333, 0.26666666666666666] [22, 8]\n",
      "perceptions [0.7321428571428571, 0.26785714285714285] [41, 15]\n",
      "thereto [0.7317073170731707, 0.2682926829268293] [30, 11]\n",
      "silevo [0.7317073170731707, 0.2682926829268293] [30, 11]\n",
      "eighth [0.7317073170731707, 0.2682926829268293] [30, 11]\n",
      "entrepreneur [0.7307692307692307, 0.2692307692307692] [19, 7]\n",
      "h [0.7307692307692307, 0.2692307692307692] [19, 7]\n",
      "asc [0.7307692307692307, 0.2692307692307692] [38, 14]\n",
      "equal [0.7297297297297297, 0.2702702702702703] [27, 10]\n",
      "interface [0.7297297297297297, 0.2702702702702703] [27, 10]\n",
      "leverage [0.7297297297297297, 0.2702702702702703] [27, 10]\n",
      "subsidies [0.7272727272727273, 0.2727272727272727] [32, 12]\n",
      "collection [0.7272727272727273, 0.2727272727272727] [24, 9]\n",
      "exposed [0.7272727272727273, 0.2727272727272727] [32, 12]\n",
      "evolving [0.7272727272727273, 0.2727272727272727] [32, 12]\n",
      "hundred [0.7265625, 0.2734375] [93, 35]\n",
      "corporation [0.7263157894736842, 0.2736842105263158] [69, 26]\n",
      "lenders [0.725, 0.275] [29, 11]\n",
      "title [0.7241379310344828, 0.27586206896551724] [21, 8]\n",
      "british [0.7241379310344828, 0.27586206896551724] [21, 8]\n",
      "inventories [0.7241379310344828, 0.27586206896551724] [21, 8]\n",
      "certificate [0.7241379310344828, 0.27586206896551724] [21, 8]\n",
      "standalone [0.7241379310344828, 0.27586206896551724] [21, 8]\n",
      "reliability [0.7236842105263158, 0.27631578947368424] [55, 21]\n",
      "complaint [0.7235772357723578, 0.2764227642276423] [89, 34]\n",
      "merchandise [0.723404255319149, 0.2765957446808511] [34, 13]\n",
      "determining [0.723404255319149, 0.2765957446808511] [34, 13]\n",
      "follows [0.7232142857142857, 0.2767857142857143] [81, 31]\n",
      "payable [0.7230769230769231, 0.27692307692307694] [47, 18]\n",
      "liquidation [0.7222222222222222, 0.2777777777777778] [26, 10]\n",
      "ppas [0.72, 0.28] [36, 14]\n",
      "ninth [0.7192982456140351, 0.2807017543859649] [41, 16]\n",
      "recognized [0.71900826446281, 0.2809917355371901] [174, 68]\n",
      "understanding [0.71875, 0.28125] [23, 9]\n",
      "beneficial [0.71875, 0.28125] [23, 9]\n",
      "immaterial [0.71875, 0.28125] [23, 9]\n",
      "sentiment [0.717948717948718, 0.28205128205128205] [28, 11]\n",
      "permitted [0.717948717948718, 0.28205128205128205] [28, 11]\n",
      "arrangements [0.717948717948718, 0.28205128205128205] [140, 55]\n",
      "allowance [0.717391304347826, 0.2826086956521739] [33, 13]\n",
      "complaints [0.7171717171717171, 0.2828282828282828] [71, 28]\n",
      "warranties [0.7169811320754716, 0.2830188679245283] [76, 30]\n",
      "accordance [0.7162162162162162, 0.28378378378378377] [53, 21]\n",
      "solarcity [0.7161654135338346, 0.28383458646616544] [381, 151]\n",
      "o [0.7142857142857143, 0.2857142857142857] [30, 12]\n",
      "insure [0.7142857142857143, 0.2857142857142857] [20, 8]\n",
      "allegations [0.7142857142857143, 0.2857142857142857] [25, 10]\n",
      "ppa [0.7142857142857143, 0.2857142857142857] [25, 10]\n",
      "constituted [0.7142857142857143, 0.2857142857142857] [30, 12]\n",
      "unjust [0.7142857142857143, 0.2857142857142857] [20, 8]\n",
      "asserts [0.7142857142857143, 0.2857142857142857] [20, 8]\n",
      "declaratory [0.7142857142857143, 0.2857142857142857] [20, 8]\n",
      "obsolete [0.7142857142857143, 0.2857142857142857] [20, 8]\n",
      "roadrunner [0.7142857142857143, 0.2857142857142857] [25, 10]\n",
      "historical [0.7131147540983607, 0.28688524590163933] [87, 35]\n",
      "reserve [0.7130434782608696, 0.28695652173913044] [82, 33]\n",
      "recourse [0.7125, 0.2875] [57, 23]\n",
      "optimize [0.7121212121212122, 0.2878787878787879] [47, 19]\n",
      "bonds [0.7114624505928854, 0.2885375494071146] [180, 73]\n",
      "percentage [0.7111111111111111, 0.28888888888888886] [64, 26]\n",
      "advertising [0.7111111111111111, 0.28888888888888886] [32, 13]\n",
      "ads [0.7096774193548387, 0.2903225806451613] [22, 9]\n",
      "stability [0.7096774193548387, 0.2903225806451613] [22, 9]\n",
      "reclassified [0.7096774193548387, 0.2903225806451613] [22, 9]\n",
      "cyclical [0.7096774193548387, 0.2903225806451613] [22, 9]\n",
      "michigan [0.7090909090909091, 0.2909090909090909] [39, 16]\n",
      "incurred [0.7090909090909091, 0.2909090909090909] [78, 32]\n",
      "noncontrolling [0.7086092715231788, 0.2913907284768212] [214, 88]\n",
      "collected [0.7083333333333334, 0.2916666666666667] [34, 14]\n",
      "redeemable [0.7083333333333334, 0.2916666666666667] [119, 49]\n",
      "criteria [0.7083333333333334, 0.2916666666666667] [34, 14]\n",
      "r [0.7079646017699115, 0.2920353982300885] [80, 33]\n",
      "effectiveness [0.7073170731707317, 0.2926829268292683] [29, 12]\n",
      "respectively [0.7066666666666667, 0.29333333333333333] [53, 22]\n",
      "relationship [0.7064220183486238, 0.29357798165137616] [77, 32]\n",
      "forth [0.7058823529411765, 0.29411764705882354] [36, 15]\n",
      "amortized [0.7058823529411765, 0.29411764705882354] [24, 10]\n",
      "realizable [0.7058823529411765, 0.29411764705882354] [24, 10]\n",
      "suspend [0.7045454545454546, 0.29545454545454547] [31, 13]\n",
      "warranty [0.7041884816753927, 0.29581151832460734] [269, 113]\n",
      "releasing [0.7037037037037037, 0.2962962962962963] [19, 8]\n",
      "players [0.7037037037037037, 0.2962962962962963] [19, 8]\n",
      "discovered [0.7037037037037037, 0.2962962962962963] [19, 8]\n",
      "category [0.7037037037037037, 0.2962962962962963] [19, 8]\n",
      "lfp [0.7037037037037037, 0.2962962962962963] [38, 16]\n",
      "diluted [0.7037037037037037, 0.2962962962962963] [38, 16]\n",
      "derivatives [0.7037037037037037, 0.2962962962962963] [19, 8]\n",
      "exists [0.7037037037037037, 0.2962962962962963] [19, 8]\n",
      "vulnerability [0.7037037037037037, 0.2962962962962963] [19, 8]\n",
      "pound [0.7027027027027027, 0.2972972972972973] [26, 11]\n",
      "u [0.7027027027027027, 0.2972972972972973] [26, 11]\n",
      "influence [0.7027027027027027, 0.2972972972972973] [26, 11]\n",
      "expedited [0.7027027027027027, 0.2972972972972973] [26, 11]\n",
      "warrant [0.7027027027027027, 0.2972972972972973] [26, 11]\n",
      "governor [0.7021276595744681, 0.2978723404255319] [33, 14]\n",
      "aggregate [0.7017543859649122, 0.2982456140350877] [40, 17]\n",
      "phase [0.7014925373134329, 0.29850746268656714] [47, 20]\n",
      "adequate [0.7012987012987013, 0.2987012987012987] [54, 23]\n",
      "processes [0.7011494252873564, 0.2988505747126437] [61, 26]\n",
      "executed [0.7, 0.3] [42, 18]\n",
      "political [0.7, 0.3] [49, 21]\n",
      "argument [0.7, 0.3] [28, 12]\n",
      "plugin [0.7, 0.3] [70, 30]\n",
      "retention [0.7, 0.3] [21, 9]\n",
      "boring [0.7, 0.3] [21, 9]\n",
      "series [0.7, 0.3] [217, 93]\n",
      "theory [0.7, 0.3] [21, 9]\n",
      "expose [0.7, 0.3] [21, 9]\n",
      "audit [0.7, 0.3] [35, 15]\n",
      "variable [0.7, 0.3] [21, 9]\n",
      "--------- negative ---------\n",
      "sumwalt [0.0, 1.0] [0, 29]\n",
      "ca [0.0, 1.0] [0, 36]\n",
      "ahmad [0.0, 1.0] [0, 27]\n",
      "meat [0.034482758620689655, 0.9655172413793104] [1, 28]\n",
      "laughter [0.037037037037037035, 0.9629629629629629] [1, 26]\n",
      "polestar [0.038461538461538464, 0.9615384615384616] [3, 75]\n",
      "murphy [0.10344827586206896, 0.896551724137931] [3, 26]\n",
      "driverless [0.14285714285714285, 0.8571428571428571] [6, 36]\n",
      "cadillac [0.15384615384615385, 0.8461538461538461] [4, 22]\n",
      "keeney [0.15384615384615385, 0.8461538461538461] [4, 22]\n",
      "brain [0.18181818181818182, 0.8181818181818182] [6, 27]\n",
      "florida [0.18181818181818182, 0.8181818181818182] [8, 36]\n",
      "fed [0.20588235294117646, 0.7941176470588235] [7, 27]\n",
      "milton [0.21428571428571427, 0.7857142857142857] [6, 22]\n",
      "bn [0.21875, 0.78125] [7, 25]\n",
      "older [0.21951219512195122, 0.7804878048780488] [9, 32]\n",
      "yeah [0.22, 0.78] [11, 39]\n",
      "ntsb [0.22580645161290322, 0.7741935483870968] [28, 96]\n",
      "resistance [0.23076923076923078, 0.7692307692307693] [6, 20]\n",
      "neuralink [0.23076923076923078, 0.7692307692307693] [6, 20]\n",
      "foot [0.2413793103448276, 0.7586206896551724] [7, 22]\n",
      "golf [0.2413793103448276, 0.7586206896551724] [7, 22]\n",
      "temperature [0.24242424242424243, 0.7575757575757576] [8, 25]\n",
      "handle [0.24489795918367346, 0.7551020408163265] [12, 37]\n",
      "ok [0.2459016393442623, 0.7540983606557377] [15, 46]\n",
      "barrier [0.25, 0.75] [10, 30]\n",
      "radar [0.25, 0.75] [13, 39]\n",
      "kelly [0.25, 0.75] [7, 21]\n",
      "spokesman [0.2558139534883721, 0.7441860465116279] [11, 32]\n",
      "sending [0.2571428571428571, 0.7428571428571429] [9, 26]\n",
      "fatal [0.25806451612903225, 0.7419354838709677] [16, 46]\n",
      "buses [0.25806451612903225, 0.7419354838709677] [8, 23]\n",
      "flash [0.25925925925925924, 0.7407407407407407] [7, 20]\n",
      "virtually [0.2608695652173913, 0.7391304347826086] [12, 34]\n",
      "panic [0.2619047619047619, 0.7380952380952381] [11, 31]\n",
      "machines [0.2631578947368421, 0.7368421052631579] [10, 28]\n",
      "partly [0.26666666666666666, 0.7333333333333333] [8, 22]\n",
      "tests [0.2708333333333333, 0.7291666666666666] [13, 35]\n",
      "awd [0.2727272727272727, 0.7272727272727273] [9, 24]\n",
      "rolling [0.2727272727272727, 0.7272727272727273] [9, 24]\n",
      "huang [0.27380952380952384, 0.7261904761904762] [23, 61]\n",
      "literally [0.27586206896551724, 0.7241379310344828] [8, 21]\n",
      "automated [0.2777777777777778, 0.7222222222222222] [20, 52]\n",
      "square [0.28125, 0.71875] [9, 23]\n",
      "totally [0.28205128205128205, 0.717948717948718] [11, 28]\n",
      "ordered [0.2857142857142857, 0.7142857142857143] [12, 30]\n",
      "convince [0.2857142857142857, 0.7142857142857143] [8, 20]\n",
      "gotten [0.2857142857142857, 0.7142857142857143] [8, 20]\n",
      "ban [0.2857142857142857, 0.7142857142857143] [8, 20]\n",
      "fighting [0.2857142857142857, 0.7142857142857143] [8, 20]\n",
      "living [0.2903225806451613, 0.7096774193548387] [9, 22]\n",
      "freeway [0.29411764705882354, 0.7058823529411765] [10, 24]\n",
      "ebitda [0.2972972972972973, 0.7027027027027027] [11, 26]\n",
      "memory [0.2978723404255319, 0.7021276595744681] [14, 33]\n",
      "tranches [0.3, 0.7] [12, 28]\n",
      "euros [0.3, 0.7] [18, 42]\n"
     ]
    }
   ],
   "source": [
    "print('--------- positive ---------')\n",
    "for k in sorted(prob,key=prob.get,reverse=True):\n",
    "    if prob[k][0] >= 0.70 and sum(count[k]) > 25:\n",
    "        print(k,prob[k],count[k])\n",
    "print('--------- negative ---------')\n",
    "for k in sorted(prob,key=prob.get,reverse=False):\n",
    "    if prob[k][1] >= 0.70 and sum(count[k]) > 25:\n",
    "        print(k,prob[k],count[k])"
   ]
  },
  {
   "cell_type": "code",
   "execution_count": 883,
   "metadata": {},
   "outputs": [],
   "source": [
    "rel = {}\n",
    "for k in sorted(prob,key=prob.get,reverse=True):\n",
    "    if prob[k][0] >= 0.60 and sum(count[k]) > 75:\n",
    "        rel[k] = prob[k]\n",
    "for k in sorted(prob,key=prob.get,reverse=False):\n",
    "    if prob[k][1] >= 0.60 and sum(count[k]) > 25:\n",
    "        rel[k] = prob[k]"
   ]
  },
  {
   "cell_type": "code",
   "execution_count": 884,
   "metadata": {},
   "outputs": [
    {
     "data": {
      "text/plain": [
       "921"
      ]
     },
     "execution_count": 884,
     "metadata": {},
     "output_type": "execute_result"
    }
   ],
   "source": [
    "len(rel)"
   ]
  },
  {
   "cell_type": "code",
   "execution_count": 323,
   "metadata": {},
   "outputs": [
    {
     "name": "stderr",
     "output_type": "stream",
     "text": [
      "/tmp/ipykernel_3769/2690515489.py:9: DeprecationWarning: In future, it will be an error for 'np.bool_' scalars to be interpreted as an index\n",
      "  prediction[prob[word.lower()][0] < 0.5] += prob[word.lower()][prob[word.lower()][0] < 0.5]\n",
      "/tmp/ipykernel_3769/2690515489.py:10: DeprecationWarning: In future, it will be an error for 'np.bool_' scalars to be interpreted as an index\n",
      "  count[prob[word.lower()][0] < 0.5] += 1\n"
     ]
    },
    {
     "name": "stdout",
     "output_type": "stream",
     "text": [
      "0.5138339920948617\n"
     ]
    }
   ],
   "source": [
    "accuracy = 0\n",
    "for num in range(len(df2)):\n",
    "    prediction = [0,0]\n",
    "    count = [0, 0]\n",
    "    tx = df2['text'].iloc[num]\n",
    "    tx = re.sub('[^a-zA-Z ]',' ',tx)\n",
    "    for word in tx.split():\n",
    "        if word.lower() in prob:\n",
    "            prediction[prob[word.lower()][0] < 0.5] += prob[word.lower()][prob[word.lower()][0] < 0.5]\n",
    "            count[prob[word.lower()][0] < 0.5] += 1\n",
    "    if count[0] > 0:\n",
    "        prediction[0] /= count[0]\n",
    "    if count[1] > 0:\n",
    "        prediction[1] /= count[1]\n",
    "    prediction[0] /= sum(prediction)\n",
    "    prediction[1] =  1 - prediction[0]\n",
    "    #print(prediction,df2['percent_change'].iloc[num])\n",
    "    accuracy += int((df2['percent_change'].iloc[num] < 0) == (prediction[0] < 0))\n",
    "accuracy /= len(df2)\n",
    "print(accuracy)"
   ]
  },
  {
   "cell_type": "code",
   "execution_count": 885,
   "metadata": {
    "scrolled": true
   },
   "outputs": [
    {
     "data": {
      "text/plain": [
       "[0.48148148148148145, 0.5185185185185185]"
      ]
     },
     "execution_count": 885,
     "metadata": {},
     "output_type": "execute_result"
    }
   ],
   "source": [
    "prob['germany']"
   ]
  },
  {
   "cell_type": "code",
   "execution_count": 886,
   "metadata": {},
   "outputs": [],
   "source": [
    "def encode_text(tx):\n",
    "    enc = np.zeros(len(rel))\n",
    "    tx = re.sub('[^a-zA-Z ]',' ',tx)\n",
    "    tx = tx.split()\n",
    "    #for i, k in enumerate(prob):\n",
    "    #    if k in tx:\n",
    "    #        enc[i] = 1\n",
    "    enc = [int(k in tx) for k in rel]\n",
    "    return enc"
   ]
  },
  {
   "cell_type": "code",
   "execution_count": 887,
   "metadata": {},
   "outputs": [],
   "source": [
    "dataset = df2.apply(\n",
    "    lambda row: [row.percent_change,encode_text(row.text)],\n",
    "    axis=1,result_type='expand')\n",
    "dataset.columns = ['label','data']"
   ]
  },
  {
   "cell_type": "code",
   "execution_count": 888,
   "metadata": {},
   "outputs": [],
   "source": [
    "labels = dataset['label'].values.astype(np.float64)\n",
    "inputs = np.array(dataset['data'].values.tolist())"
   ]
  },
  {
   "cell_type": "code",
   "execution_count": 889,
   "metadata": {},
   "outputs": [],
   "source": [
    "from sklearn.model_selection import train_test_split\n",
    "X_train, X_test, y_train, y_test = train_test_split(inputs, labels, test_size=0.3, shuffle=True)"
   ]
  },
  {
   "cell_type": "code",
   "execution_count": 890,
   "metadata": {},
   "outputs": [
    {
     "name": "stdout",
     "output_type": "stream",
     "text": [
      "0.4769736842105263\n"
     ]
    }
   ],
   "source": [
    "#from sklearn.ensemble import AdaBoostRegressor\n",
    "#clf = AdaBoostRegressor(loss='square')\n",
    "#clf.fit(X_train, y_train)\n",
    "#print(clf.score(X_test,y_test))\n",
    "\n",
    "from sklearn.ensemble import AdaBoostClassifier\n",
    "clf = AdaBoostClassifier()\n",
    "clf.fit(X_train, (y_train < 0).astype(int))\n",
    "print(clf.score(X_test,(y_test < 0).astype(int)))"
   ]
  },
  {
   "cell_type": "code",
   "execution_count": 891,
   "metadata": {},
   "outputs": [
    {
     "name": "stdout",
     "output_type": "stream",
     "text": [
      "0.5592105263157895\n"
     ]
    }
   ],
   "source": [
    "#from sklearn.ensemble import RandomForestRegressor\n",
    "#clf = RandomForestRegressor()\n",
    "#clf.fit(X_train, y_train)\n",
    "#print(clf.score(X_test,y_test))\n",
    "\n",
    "from sklearn.ensemble import RandomForestClassifier\n",
    "clf = RandomForestClassifier()\n",
    "clf.fit(X_train, (y_train < 0).astype(int))\n",
    "print(clf.score(X_test,(y_test < 0).astype(int)))"
   ]
  },
  {
   "cell_type": "code",
   "execution_count": 1153,
   "metadata": {},
   "outputs": [
    {
     "name": "stdout",
     "output_type": "stream",
     "text": [
      "0.8891242937853108\n"
     ]
    }
   ],
   "source": [
    "from sklearn.linear_model import SGDClassifier\n",
    "clf = SGDClassifier(max_iter=1000, tol=1e-10,shuffle=True)\n",
    "clf.fit(X_train, (y_train < 0).astype(int))\n",
    "print(clf.score(X_train,(y_train < 0).astype(int)))"
   ]
  },
  {
   "cell_type": "code",
   "execution_count": 1154,
   "metadata": {},
   "outputs": [
    {
     "name": "stdout",
     "output_type": "stream",
     "text": [
      "0.5592105263157895\n"
     ]
    }
   ],
   "source": [
    "print(clf.score(X_test,(y_test < 0).astype(int)))"
   ]
  },
  {
   "cell_type": "code",
   "execution_count": 978,
   "metadata": {},
   "outputs": [],
   "source": [
    "#https://www.geeksforgeeks.org/python-word-embedding-using-word2vec/"
   ]
  },
  {
   "cell_type": "code",
   "execution_count": 1165,
   "metadata": {},
   "outputs": [],
   "source": [
    "time_res = np.array([int(r == (y_test[i] < 0)) for i,r in enumerate(clf.predict(X_test))])"
   ]
  },
  {
   "cell_type": "code",
   "execution_count": 1166,
   "metadata": {},
   "outputs": [
    {
     "data": {
      "text/plain": [
       "1.2649253731343284"
      ]
     },
     "execution_count": 1166,
     "metadata": {},
     "output_type": "execute_result"
    }
   ],
   "source": [
    "# average length of correct guesses in a row\n",
    "length = 0\n",
    "count = 0\n",
    "avg = 0\n",
    "for x in time_res:\n",
    "    if x == 0:\n",
    "        count+=1\n",
    "        avg += length\n",
    "        length = 0\n",
    "    elif x == 1:\n",
    "        length+=1\n",
    "avg /= count\n",
    "avg"
   ]
  },
  {
   "cell_type": "code",
   "execution_count": null,
   "metadata": {},
   "outputs": [],
   "source": []
  }
 ],
 "metadata": {
  "kernelspec": {
   "display_name": "Python 3 (ipykernel)",
   "language": "python",
   "name": "python3"
  },
  "language_info": {
   "codemirror_mode": {
    "name": "ipython",
    "version": 3
   },
   "file_extension": ".py",
   "mimetype": "text/x-python",
   "name": "python",
   "nbconvert_exporter": "python",
   "pygments_lexer": "ipython3",
   "version": "3.9.7"
  }
 },
 "nbformat": 4,
 "nbformat_minor": 4
}
