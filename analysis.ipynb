{
 "cells": [
  {
   "cell_type": "code",
   "execution_count": 67,
   "metadata": {},
   "outputs": [
    {
     "name": "stdout",
     "output_type": "stream",
     "text": [
      "done loading $tsla data.\n"
     ]
    }
   ],
   "source": [
    "from datetime import date, timedelta\n",
    "\n",
    "from Stock import *\n",
    "\n",
    "s = date(2020,1,1)\n",
    "e = date(2021,12,20)\n",
    "tesla = Stock(\"tsla\")\n",
    "tesla.load_data()\n",
    "#tesla.add_data_range(s,e,stockpath='pricedata/tsla.csv')\n",
    "#tesla.save_data()\n",
    "\n",
    "# adding individual days\n",
    "#tesla.add_data(s)"
   ]
  },
  {
   "cell_type": "code",
   "execution_count": 68,
   "metadata": {},
   "outputs": [
    {
     "name": "stdout",
     "output_type": "stream",
     "text": [
      "4048\n",
      "2024\n",
      "2024\n"
     ]
    },
    {
     "name": "stderr",
     "output_type": "stream",
     "text": [
      "d:\\dmarq\\tools\\python37\\lib\\site-packages\\ipykernel_launcher.py:8: SettingWithCopyWarning: \n",
      "A value is trying to be set on a copy of a slice from a DataFrame.\n",
      "Try using .loc[row_indexer,col_indexer] = value instead\n",
      "\n",
      "See the caveats in the documentation: https://pandas.pydata.org/pandas-docs/stable/user_guide/indexing.html#returning-a-view-versus-a-copy\n",
      "  \n"
     ]
    }
   ],
   "source": [
    "# Analysis\n",
    "import seaborn as sns\n",
    "import matplotlib.pyplot as plt\n",
    "import re\n",
    "\n",
    "df = tesla.df.dropna()\n",
    "df['domain'] = df.apply(\n",
    "    lambda row: re.sub('www3.|www.','',row.link.split('//')[1].split('/')[0]), axis=1)\n",
    "df1 = df.sample(frac=0.5)\n",
    "df2 = df.drop(df1.index)\n",
    "print(len(df))\n",
    "print(len(df1))\n",
    "print(len(df2))"
   ]
  },
  {
   "cell_type": "code",
   "execution_count": 69,
   "metadata": {},
   "outputs": [],
   "source": [
    "count = {}\n",
    "for p, tx in df1[['percent_change','text']].values:\n",
    "    tx = re.sub('[^a-zA-Z ]',' ',tx)\n",
    "    for word in tx.split():\n",
    "        if word.lower() not in count:\n",
    "            count[word.lower()] = [0,0]\n",
    "        count[word.lower()][p < 0] += 1"
   ]
  },
  {
   "cell_type": "code",
   "execution_count": 70,
   "metadata": {},
   "outputs": [],
   "source": [
    "prob = {k:list(np.array(count[k])/(sum(count[k]))) for k in count}"
   ]
  },
  {
   "cell_type": "code",
   "execution_count": 71,
   "metadata": {
    "scrolled": true
   },
   "outputs": [
    {
     "name": "stdout",
     "output_type": "stream",
     "text": [
      "--------- positive ---------\n",
      "shall [0.958974358974359, 0.041025641025641026] [187, 8]\n",
      "proposal [0.9279279279279279, 0.07207207207207207] [103, 8]\n",
      "committee [0.9142857142857143, 0.08571428571428572] [128, 12]\n",
      "vote [0.8991596638655462, 0.10084033613445378] [107, 12]\n",
      "corporation [0.8470588235294118, 0.15294117647058825] [144, 26]\n",
      "notice [0.8320610687022901, 0.16793893129770993] [109, 22]\n",
      "directors [0.8279569892473119, 0.17204301075268819] [231, 48]\n",
      "stockholders [0.8044692737430168, 0.19553072625698323] [144, 35]\n",
      "meeting [0.7859424920127795, 0.21405750798722045] [246, 67]\n",
      "stockholder [0.7391304347826086, 0.2608695652173913] [102, 36]\n",
      "board [0.7007168458781362, 0.2992831541218638] [391, 167]\n",
      "--------- negative ---------\n",
      "indenture [0.0, 1.0] [0, 62]\n",
      "polestar [0.014492753623188406, 0.9855072463768116] [1, 68]\n",
      "supplemental [0.015873015873015872, 0.9841269841269841] [1, 62]\n",
      "trustee [0.01694915254237288, 0.9830508474576272] [1, 58]\n",
      "llc [0.03125, 0.96875] [1, 31]\n",
      "laughter [0.037037037037037035, 0.9629629629629629] [1, 26]\n",
      "bonds [0.057971014492753624, 0.9420289855072463] [4, 65]\n",
      "restated [0.06451612903225806, 0.9354838709677419] [2, 29]\n",
      "dated [0.07079646017699115, 0.9292035398230089] [8, 105]\n",
      "freeway [0.07142857142857142, 0.9285714285714286] [2, 26]\n",
      "yeah [0.1, 0.9] [5, 45]\n",
      "sumwalt [0.10714285714285714, 0.8928571428571429] [3, 25]\n",
      "murphy [0.11538461538461539, 0.8846153846153846] [3, 23]\n",
      "machines [0.13333333333333333, 0.8666666666666667] [4, 26]\n",
      "hummer [0.13793103448275862, 0.8620689655172413] [4, 25]\n",
      "regional [0.13793103448275862, 0.8620689655172413] [4, 25]\n",
      "milton [0.13793103448275862, 0.8620689655172413] [4, 25]\n",
      "nikola [0.14492753623188406, 0.855072463768116] [10, 59]\n",
      "miners [0.14814814814814814, 0.8518518518518519] [4, 23]\n",
      "meat [0.15151515151515152, 0.8484848484848485] [5, 28]\n",
      "robot [0.15625, 0.84375] [5, 27]\n",
      "awd [0.15625, 0.84375] [5, 27]\n",
      "registrant [0.16049382716049382, 0.8395061728395061] [13, 68]\n",
      "brain [0.16666666666666666, 0.8333333333333334] [6, 30]\n",
      "greenhouse [0.16666666666666666, 0.8333333333333334] [5, 25]\n",
      "branch [0.17142857142857143, 0.8285714285714286] [6, 29]\n",
      "gigawatt [0.1724137931034483, 0.8275862068965517] [5, 24]\n",
      "deutsche [0.1724137931034483, 0.8275862068965517] [5, 24]\n",
      "driverless [0.1724137931034483, 0.8275862068965517] [5, 24]\n",
      "huang [0.18181818181818182, 0.8181818181818182] [10, 45]\n",
      "honestly [0.18518518518518517, 0.8148148148148148] [5, 22]\n",
      "pounds [0.18518518518518517, 0.8148148148148148] [5, 22]\n",
      "civilization [0.19230769230769232, 0.8076923076923077] [5, 21]\n",
      "solarcity [0.19339622641509435, 0.8066037735849056] [41, 171]\n",
      "ok [0.2, 0.8] [10, 40]\n",
      "deferred [0.20512820512820512, 0.7948717948717948] [8, 31]\n",
      "lanes [0.20689655172413793, 0.7931034482758621] [6, 23]\n",
      "fighting [0.21428571428571427, 0.7857142857142857] [6, 22]\n",
      "infotainment [0.21428571428571427, 0.7857142857142857] [6, 22]\n",
      "diaz [0.21621621621621623, 0.7837837837837838] [8, 29]\n",
      "coal [0.21875, 0.78125] [7, 25]\n",
      "claudia [0.2222222222222222, 0.7777777777777778] [6, 21]\n",
      "promotional [0.2222222222222222, 0.7777777777777778] [6, 21]\n",
      "nonprofit [0.2222222222222222, 0.7777777777777778] [6, 21]\n",
      "barrier [0.22580645161290322, 0.7741935483870968] [7, 24]\n",
      "ice [0.22580645161290322, 0.7741935483870968] [7, 24]\n",
      "talked [0.24528301886792453, 0.7547169811320755] [13, 40]\n",
      "assumptions [0.2459016393442623, 0.7540983606557377] [15, 46]\n",
      "florida [0.25, 0.75] [13, 39]\n",
      "accepted [0.25, 0.75] [7, 21]\n",
      "fisker [0.25, 0.75] [8, 24]\n",
      "refreshed [0.25, 0.75] [7, 21]\n",
      "seats [0.2553191489361702, 0.7446808510638298] [12, 35]\n",
      "flames [0.25806451612903225, 0.7419354838709677] [8, 23]\n",
      "researchers [0.25806451612903225, 0.7419354838709677] [8, 23]\n",
      "rollout [0.25925925925925924, 0.7407407407407407] [7, 20]\n",
      "finances [0.25925925925925924, 0.7407407407407407] [7, 20]\n",
      "rear [0.26262626262626265, 0.7373737373737373] [26, 73]\n",
      "temperature [0.2631578947368421, 0.7368421052631579] [10, 28]\n",
      "benz [0.26666666666666666, 0.7333333333333333] [8, 22]\n",
      "detect [0.26666666666666666, 0.7333333333333333] [12, 33]\n",
      "accumulated [0.2692307692307692, 0.7307692307692307] [7, 19]\n",
      "nelson [0.2692307692307692, 0.7307692307692307] [7, 19]\n",
      "kw [0.2702702702702703, 0.7297297297297297] [10, 27]\n",
      "cathode [0.2702702702702703, 0.7297297297297297] [10, 27]\n",
      "sport [0.2708333333333333, 0.7291666666666666] [13, 35]\n",
      "talk [0.2727272727272727, 0.7272727272727273] [21, 56]\n",
      "ntsb [0.273972602739726, 0.726027397260274] [40, 106]\n",
      "magazine [0.275, 0.725] [11, 29]\n",
      "waymo [0.27586206896551724, 0.7241379310344828] [8, 21]\n",
      "crashed [0.2765957446808511, 0.723404255319149] [13, 34]\n",
      "wheels [0.2777777777777778, 0.7222222222222222] [10, 26]\n",
      "monitoring [0.28, 0.72] [14, 36]\n",
      "assis [0.28125, 0.71875] [9, 23]\n",
      "claudiaassismw [0.28125, 0.71875] [9, 23]\n",
      "km [0.2826086956521739, 0.717391304347826] [13, 33]\n",
      "c [0.2833333333333333, 0.7166666666666667] [34, 86]\n",
      "sensors [0.2839506172839506, 0.7160493827160493] [23, 58]\n",
      "pilot [0.2857142857142857, 0.7142857142857143] [12, 30]\n",
      "phone [0.2875, 0.7125] [23, 57]\n",
      "appeared [0.288135593220339, 0.711864406779661] [17, 42]\n",
      "welcome [0.2894736842105263, 0.7105263157894737] [11, 27]\n",
      "scope [0.2894736842105263, 0.7105263157894737] [11, 27]\n",
      "truly [0.2903225806451613, 0.7096774193548387] [9, 22]\n",
      "crucial [0.2903225806451613, 0.7096774193548387] [9, 22]\n",
      "black [0.2916666666666667, 0.7083333333333334] [14, 34]\n",
      "digital [0.29213483146067415, 0.7078651685393258] [26, 63]\n",
      "acquire [0.2926829268292683, 0.7073170731707317] [12, 29]\n",
      "module [0.29411764705882354, 0.7058823529411765] [10, 24]\n",
      "safely [0.29411764705882354, 0.7058823529411765] [10, 24]\n",
      "conventional [0.29545454545454547, 0.7045454545454546] [13, 31]\n",
      "repair [0.29577464788732394, 0.704225352112676] [21, 50]\n",
      "jason [0.2962962962962963, 0.7037037037037037] [8, 19]\n",
      "tough [0.2962962962962963, 0.7037037037037037] [16, 38]\n",
      "usage [0.2962962962962963, 0.7037037037037037] [8, 19]\n",
      "jose [0.2962962962962963, 0.7037037037037037] [8, 19]\n",
      "dual [0.2972972972972973, 0.7027027027027027] [11, 26]\n",
      "usual [0.2972972972972973, 0.7027027027027027] [11, 26]\n",
      "emissions [0.2978723404255319, 0.7021276595744681] [42, 99]\n",
      "talent [0.3, 0.7] [9, 21]\n",
      "older [0.3, 0.7] [9, 21]\n",
      "guess [0.3, 0.7] [9, 21]\n",
      "aiming [0.3, 0.7] [9, 21]\n",
      "gold [0.3, 0.7] [9, 21]\n",
      "circumstances [0.3, 0.7] [18, 42]\n"
     ]
    }
   ],
   "source": [
    "print('--------- positive ---------')\n",
    "for k in sorted(prob,key=prob.get,reverse=True):\n",
    "    if prob[k][0] >= 0.70 and sum(count[k]) > 100:\n",
    "        print(k,prob[k],count[k])\n",
    "print('--------- negative ---------')\n",
    "for k in sorted(prob,key=prob.get,reverse=False):\n",
    "    if prob[k][1] >= 0.70 and sum(count[k]) > 25:\n",
    "        print(k,prob[k],count[k])"
   ]
  },
  {
   "cell_type": "code",
   "execution_count": 72,
   "metadata": {},
   "outputs": [
    {
     "name": "stderr",
     "output_type": "stream",
     "text": [
      "d:\\dmarq\\tools\\python37\\lib\\site-packages\\ipykernel_launcher.py:9: DeprecationWarning: In future, it will be an error for 'np.bool_' scalars to be interpreted as an index\n",
      "  if __name__ == '__main__':\n",
      "d:\\dmarq\\tools\\python37\\lib\\site-packages\\ipykernel_launcher.py:10: DeprecationWarning: In future, it will be an error for 'np.bool_' scalars to be interpreted as an index\n",
      "  # Remove the CWD from sys.path while we load stuff.\n"
     ]
    },
    {
     "name": "stdout",
     "output_type": "stream",
     "text": [
      "0.5059288537549407\n"
     ]
    }
   ],
   "source": [
    "accuracy = 0\n",
    "for num in range(len(df2)):\n",
    "    prediction = [0,0]\n",
    "    count = [0, 0]\n",
    "    tx = df2['text'].iloc[num]\n",
    "    tx = re.sub('[^a-zA-Z ]',' ',tx)\n",
    "    for word in tx.split():\n",
    "        if word.lower() in prob:\n",
    "            prediction[prob[word.lower()][0] < 0.5] += prob[word.lower()][prob[word.lower()][0] < 0.5]\n",
    "            count[prob[word.lower()][0] < 0.5] += 1\n",
    "    if count[0] > 0:\n",
    "        prediction[0] /= count[0]\n",
    "    if count[1] > 0:\n",
    "        prediction[1] /= count[1]\n",
    "    prediction[0] /= sum(prediction)\n",
    "    prediction[1] =  1 - prediction[0]\n",
    "    #print(prediction,df2['percent_change'].iloc[num])\n",
    "    accuracy += int((df2['percent_change'].iloc[num] < 0) == (prediction[0] < 0))\n",
    "accuracy /= len(df2)\n",
    "print(accuracy)"
   ]
  },
  {
   "cell_type": "code",
   "execution_count": null,
   "metadata": {},
   "outputs": [],
   "source": []
  }
 ],
 "metadata": {
  "kernelspec": {
   "display_name": "Python 3",
   "language": "python",
   "name": "python3"
  },
  "language_info": {
   "codemirror_mode": {
    "name": "ipython",
    "version": 3
   },
   "file_extension": ".py",
   "mimetype": "text/x-python",
   "name": "python",
   "nbconvert_exporter": "python",
   "pygments_lexer": "ipython3",
   "version": "3.7.9"
  }
 },
 "nbformat": 4,
 "nbformat_minor": 4
}
